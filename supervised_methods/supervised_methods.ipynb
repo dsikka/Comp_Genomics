{
 "cells": [
  {
   "cell_type": "code",
   "execution_count": 1,
   "metadata": {
    "colab": {
     "base_uri": "https://localhost:8080/",
     "height": 72
    },
    "colab_type": "code",
    "id": "DPKwiut19de2",
    "outputId": "d8d6eee8-95e8-49c9-dd6e-19d9edec049a"
   },
   "outputs": [],
   "source": [
    "import pandas as pd\n",
    "import numpy as np\n",
    "import matplotlib.pyplot as plt\n",
    "from sklearn.preprocessing import StandardScaler, FunctionTransformer\n",
    "from sklearn.decomposition import PCA\n",
    "import seaborn as sb\n",
    "from sklearn.decomposition import PCA\n",
    "from sklearn.manifold import TSNE\n",
    "import collections\n",
    "import torch\n",
    "import mord as m\n",
    "from sklearn.ensemble import RandomForestClassifier\n",
    "from sklearn.svm import SVC\n",
    "from sklearn.decomposition import MiniBatchSparsePCA\n",
    "from sklearn.kernel_approximation import RBFSampler\n",
    "from sklearn.model_selection import train_test_split, RandomizedSearchCV, KFold, GridSearchCV, StratifiedKFold, cross_val_score"
   ]
  },
  {
   "cell_type": "code",
   "execution_count": 0,
   "metadata": {
    "colab": {
     "base_uri": "https://localhost:8080/",
     "height": 173
    },
    "colab_type": "code",
    "id": "w8T2GP6V74nc",
    "outputId": "79882177-f988-4cfc-c695-d2bc9a52a61e"
   },
   "outputs": [
    {
     "name": "stdout",
     "output_type": "stream",
     "text": [
      "Collecting mord\n",
      "  Downloading https://files.pythonhosted.org/packages/67/9d/c791c841501d9ff4ecb76b57f208dec6cf9f925109c59c995ddec80f9b32/mord-0.6.tar.gz\n",
      "Building wheels for collected packages: mord\n",
      "  Building wheel for mord (setup.py) ... \u001b[?25l\u001b[?25hdone\n",
      "  Created wheel for mord: filename=mord-0.6-cp36-none-any.whl size=6008 sha256=0ba6337e7e3df77633c5dc317daac82ebbc4c8fb067b7977841d622b39a74ed9\n",
      "  Stored in directory: /root/.cache/pip/wheels/98/14/b2/244c2cec93a0c6edb29b488bd6b2710ded7e9d457033b86366\n",
      "Successfully built mord\n",
      "Installing collected packages: mord\n",
      "Successfully installed mord-0.6\n"
     ]
    }
   ],
   "source": [
    "!pip install mord"
   ]
  },
  {
   "cell_type": "code",
   "execution_count": 0,
   "metadata": {
    "colab": {},
    "colab_type": "code",
    "id": "vOco4wxe99gO"
   },
   "outputs": [],
   "source": [
    "import mord as m"
   ]
  },
  {
   "cell_type": "markdown",
   "metadata": {
    "colab_type": "text",
    "id": "kfpDU8JH9de_"
   },
   "source": [
    "## Load processed data"
   ]
  },
  {
   "cell_type": "code",
   "execution_count": 2,
   "metadata": {
    "colab": {},
    "colab_type": "code",
    "id": "foe7nuZh9dfA"
   },
   "outputs": [],
   "source": [
    "train_data = pd.read_csv('train_data_processed.csv')\n",
    "test_data = pd.read_csv('test_data_processed.csv')\n",
    "train_labels = np.load('train_labels.csv.npy', allow_pickle=True)\n",
    "test_labels = np.load('test_labels.csv.npy', allow_pickle=True)"
   ]
  },
  {
   "cell_type": "code",
   "execution_count": 3,
   "metadata": {
    "colab": {},
    "colab_type": "code",
    "id": "q1MBW0tU9dfJ"
   },
   "outputs": [],
   "source": [
    "# Explains more than 80% of the variance in the data\n",
    "pca = PCA(n_components=100)\n",
    "scaler = StandardScaler()\n",
    "\n",
    "train_scaled = scaler.fit_transform(train_data)\n",
    "pca_train_genes = pca.fit_transform(train_scaled)\n",
    "\n",
    "test_scaled = scaler.transform(test_data)\n",
    "pca_test_genes = pca.transform(test_scaled)\n",
    "\n",
    "all_weights = pd.DataFrame(pca.components_)\n",
    "all_weights.columns = train_data.columns.values"
   ]
  },
  {
   "cell_type": "code",
   "execution_count": 4,
   "metadata": {
    "colab": {},
    "colab_type": "code",
    "id": "nqn9OBlS9dfQ"
   },
   "outputs": [],
   "source": [
    "important_genes = []\n",
    "for i in range(50):\n",
    "    important_genes.append([pd.DataFrame(np.abs(all_weights)).T.nlargest(100, i).index.values])\n",
    "important_genes = np.unique(important_genes, return_counts=False)"
   ]
  },
  {
   "cell_type": "code",
   "execution_count": 5,
   "metadata": {
    "colab": {},
    "colab_type": "code",
    "id": "wAtRAAjQ9dfV"
   },
   "outputs": [],
   "source": [
    "important_train = train_data[important_genes]\n",
    "important_test = test_data[important_genes]"
   ]
  },
  {
   "cell_type": "code",
   "execution_count": 6,
   "metadata": {
    "colab": {},
    "colab_type": "code",
    "id": "IQRiH6yg9dfa"
   },
   "outputs": [],
   "source": [
    "label_mapping = {'WHO II': 0, 'WHO III': 1, 'WHO IV': 2}\n",
    "reverse_mapping = {0: 'WHO II', 1: 'WHO III', 2: 'WHO IV'}\n",
    "mapped_labels_train = [label_mapping[x[0]] for x in train_labels]\n",
    "mapped_labels_test = [label_mapping[x[0]] for x in test_labels]"
   ]
  },
  {
   "cell_type": "markdown",
   "metadata": {
    "colab_type": "text",
    "id": "DcB56gkY9dff"
   },
   "source": [
    "# Visualize the important genes"
   ]
  },
  {
   "cell_type": "code",
   "execution_count": 0,
   "metadata": {
    "colab": {},
    "colab_type": "code",
    "id": "bOMQkTaW9dfg"
   },
   "outputs": [],
   "source": [
    "def display_pca(input_data, labels, title):\n",
    "    high_scaler = StandardScaler()\n",
    "    input_scaled = high_scaler.fit_transform(input_data)\n",
    "    \n",
    "    pca = PCA(n_components=2)\n",
    "    transformed_data = pca.fit_transform(input_scaled)\n",
    "    \n",
    "    data_df = pd.DataFrame(data = transformed_data, columns = ['principal component 1', 'principal component 2'])\n",
    "    class_labels_df = pd.DataFrame(labels)\n",
    "    data_df = pd.concat([data_df, class_labels_df], axis = 1)\n",
    "    data_df.columns = ['PC1', 'PC2', 'Grade']\n",
    "    \n",
    "    fig = plt.figure(figsize = (20, 10))\n",
    "    ax = fig.add_subplot(1,2,1) \n",
    "    ax.set_title(title, fontsize = 15)\n",
    "    ax.set_xlabel('Principal Component 1', fontsize = 15)\n",
    "    ax.set_ylabel('Principal Component 2', fontsize = 15)\n",
    "    targets = ['WHO II', 'WHO III', 'WHO IV']\n",
    "    colors = ['r', 'g', 'b']\n",
    "    for target, color in zip(targets,colors):\n",
    "        indicesToKeep = data_df['Grade'] == target\n",
    "        ax.scatter(data_df.loc[indicesToKeep, 'PC1']\n",
    "                   , data_df.loc[indicesToKeep, 'PC2']\n",
    "                   , c = color\n",
    "                   , s = 50)\n",
    "    ax.legend(targets)\n",
    "    ax.grid()"
   ]
  },
  {
   "cell_type": "code",
   "execution_count": 0,
   "metadata": {
    "colab": {
     "base_uri": "https://localhost:8080/",
     "height": 628
    },
    "colab_type": "code",
    "id": "f5-HmFb99dfj",
    "outputId": "adedc05d-4f12-4bf0-f984-06c1fbdbc890"
   },
   "outputs": [
    {
     "data": {
      "image/png": "[encoded data removed]",
      "text/plain": [
       "<Figure size 1440x720 with 1 Axes>"
      ]
     },
     "metadata": {
      "needs_background": "light",
      "tags": []
     },
     "output_type": "display_data"
    }
   ],
   "source": [
    "display_pca(important_train, train_labels, 'Training Data: Using 2 Principal Components')"
   ]
  },
  {
   "cell_type": "markdown",
   "metadata": {
    "colab_type": "text",
    "id": "qv-Y080X9dfq"
   },
   "source": [
    "## Standard Random Forest Classifier"
   ]
  },
  {
   "cell_type": "code",
   "execution_count": 0,
   "metadata": {
    "colab": {},
    "colab_type": "code",
    "id": "9Axth1ZH9dfq"
   },
   "outputs": [],
   "source": [
    "n_estimators = [int(x) for x in np.linspace(start = 200, stop = 1000, num = 15)]\n",
    "max_depth = [int(x) for x in np.linspace(start = 3, stop = 20, num = 15)]\n",
    "min_samples_split = [int(x) for x in np.linspace(start = 1, stop = 50, num = 15)]\n",
    "rf = RandomForestClassifier(bootstrap='True', random_state=0, max_features='auto')\n",
    "cv_strategy = StratifiedKFold(n_splits=10, random_state=0, shuffle=True)"
   ]
  },
  {
   "cell_type": "code",
   "execution_count": 0,
   "metadata": {
    "colab": {},
    "colab_type": "code",
    "id": "ZvZ5VDZu9dfv"
   },
   "outputs": [],
   "source": [
    "rf_params = {'n_estimators': n_estimators, \n",
    "             'max_depth': max_depth, \n",
    "             'min_samples_split': min_samples_split}"
   ]
  },
  {
   "cell_type": "code",
   "execution_count": 0,
   "metadata": {
    "colab": {},
    "colab_type": "code",
    "id": "3Z0iXfMU9dfy"
   },
   "outputs": [],
   "source": [
    "rf_random_search = RandomizedSearchCV(rf, rf_params, cv=cv_strategy, n_jobs=-1, return_train_score=True)"
   ]
  },
  {
   "cell_type": "markdown",
   "metadata": {
    "colab_type": "text",
    "id": "IyImZ2_l32JG"
   },
   "source": [
    "- Conducted on the 3000+ most important genes"
   ]
  },
  {
   "cell_type": "code",
   "execution_count": 0,
   "metadata": {
    "colab": {
     "base_uri": "https://localhost:8080/",
     "height": 34
    },
    "colab_type": "code",
    "id": "ZAHJ48O_9df2",
    "outputId": "011fd8c3-b7b7-44eb-a1a9-5e5fde455551"
   },
   "outputs": [
    {
     "data": {
      "text/plain": [
       "0.688735632183908"
      ]
     },
     "execution_count": 141,
     "metadata": {
      "tags": []
     },
     "output_type": "execute_result"
    }
   ],
   "source": [
    "rf_random_search.fit(important_train, mapped_labels_train)\n",
    "rf_random_search.best_score_"
   ]
  },
  {
   "cell_type": "code",
   "execution_count": 0,
   "metadata": {
    "colab": {
     "base_uri": "https://localhost:8080/",
     "height": 34
    },
    "colab_type": "code",
    "id": "8VLYBT9r9df_",
    "outputId": "1f052b4d-1cad-4247-9307-6efcd241b43a"
   },
   "outputs": [
    {
     "data": {
      "text/plain": [
       "0.6666666666666666"
      ]
     },
     "execution_count": 142,
     "metadata": {
      "tags": []
     },
     "output_type": "execute_result"
    }
   ],
   "source": [
    "rf_random_search.score(important_test, mapped_labels_test)"
   ]
  },
  {
   "cell_type": "markdown",
   "metadata": {
    "colab_type": "text",
    "id": "M7CfmFy734Tr"
   },
   "source": [
    "- Conducted on the top 100 PCs"
   ]
  },
  {
   "cell_type": "code",
   "execution_count": 0,
   "metadata": {
    "colab": {
     "base_uri": "https://localhost:8080/",
     "height": 34
    },
    "colab_type": "code",
    "id": "FGRFVno64CZ7",
    "outputId": "6dfa8de2-b365-4e8c-e18a-7efed939b895"
   },
   "outputs": [
    {
     "data": {
      "text/plain": [
       "0.661264367816092"
      ]
     },
     "execution_count": 143,
     "metadata": {
      "tags": []
     },
     "output_type": "execute_result"
    }
   ],
   "source": [
    "rf_random_search_pca = RandomizedSearchCV(rf, rf_params, cv=cv_strategy, n_jobs=-1, return_train_score=True)\n",
    "rf_random_search_pca.fit(pca_train_genes, mapped_labels_train)\n",
    "rf_random_search_pca.best_score_"
   ]
  },
  {
   "cell_type": "code",
   "execution_count": 0,
   "metadata": {
    "colab": {
     "base_uri": "https://localhost:8080/",
     "height": 34
    },
    "colab_type": "code",
    "id": "_1bLSFnc47GX",
    "outputId": "145d7eec-27c4-4e29-b64b-8682650fdf01"
   },
   "outputs": [
    {
     "data": {
      "text/plain": [
       "0.696969696969697"
      ]
     },
     "execution_count": 145,
     "metadata": {
      "tags": []
     },
     "output_type": "execute_result"
    }
   ],
   "source": [
    "rf_random_search_pca.score(pca_test_genes, mapped_labels_test)"
   ]
  },
  {
   "cell_type": "markdown",
   "metadata": {
    "colab_type": "text",
    "id": "aa0swEXs9dgO"
   },
   "source": [
    "# Kernel SVM"
   ]
  },
  {
   "cell_type": "code",
   "execution_count": 7,
   "metadata": {
    "colab": {},
    "colab_type": "code",
    "id": "HUTW6Cgb9dgP"
   },
   "outputs": [],
   "source": [
    "important_train_scaled = scaler.fit_transform(important_train)\n",
    "important_test_scaled = scaler.transform(important_test)"
   ]
  },
  {
   "cell_type": "markdown",
   "metadata": {
    "colab_type": "text",
    "id": "HTYZ_lUw56K5"
   },
   "source": [
    "- Using 3000+ genes"
   ]
  },
  {
   "cell_type": "code",
   "execution_count": 0,
   "metadata": {
    "colab": {},
    "colab_type": "code",
    "id": "9UMhpSwQ9dgS",
    "outputId": "d96ea563-33be-43c4-c0fa-17d77804d3d1"
   },
   "outputs": [
    {
     "data": {
      "text/plain": [
       "0.6855172413793104"
      ]
     },
     "execution_count": 51,
     "metadata": {
      "tags": []
     },
     "output_type": "execute_result"
    }
   ],
   "source": [
    "cv_strategy = StratifiedKFold(n_splits=10, random_state=0, shuffle=True)\n",
    "parameters = {'kernel':('linear', 'rbf', 'poly'), 'C': np.logspace(-3, 3, 7), 'gamma': ('auto', 'scale')}\n",
    "svc_grid = GridSearchCV(SVC(), parameters, cv=cv_strategy, n_jobs=-1, return_train_score=True)\n",
    "svc_grid.fit(important_train_scaled, mapped_labels_train)\n",
    "svc_grid.best_score_"
   ]
  },
  {
   "cell_type": "code",
   "execution_count": 0,
   "metadata": {
    "colab": {},
    "colab_type": "code",
    "id": "Zfo593V89dgV",
    "outputId": "f7440c51-9f58-4532-f2e2-a064e4f491a5"
   },
   "outputs": [
    {
     "data": {
      "text/plain": [
       "0.696969696969697"
      ]
     },
     "execution_count": 52,
     "metadata": {
      "tags": []
     },
     "output_type": "execute_result"
    }
   ],
   "source": [
    "svc_grid.score(important_test_scaled, mapped_labels_test)"
   ]
  },
  {
   "cell_type": "markdown",
   "metadata": {
    "colab_type": "text",
    "id": "0RVdzTfS5-fh"
   },
   "source": [
    "- Using top 100 PCs"
   ]
  },
  {
   "cell_type": "code",
   "execution_count": 0,
   "metadata": {
    "colab": {
     "base_uri": "https://localhost:8080/",
     "height": 34
    },
    "colab_type": "code",
    "id": "9HPCbW3j511p",
    "outputId": "5a3a6a2e-8867-49b6-eb1c-2f3dee0a3996"
   },
   "outputs": [
    {
     "data": {
      "text/plain": [
       "0.689080459770115"
      ]
     },
     "execution_count": 146,
     "metadata": {
      "tags": []
     },
     "output_type": "execute_result"
    }
   ],
   "source": [
    "cv_strategy = StratifiedKFold(n_splits=10, random_state=0, shuffle=True)\n",
    "parameters = {'kernel':('linear', 'rbf', 'poly'), 'C': np.logspace(-3, 3, 7), 'gamma': ('auto', 'scale')}\n",
    "svc_grid = GridSearchCV(SVC(), parameters, cv=cv_strategy, n_jobs=-1, return_train_score=True)\n",
    "svc_grid.fit(pca_train_genes, mapped_labels_train)\n",
    "svc_grid.best_score_"
   ]
  },
  {
   "cell_type": "code",
   "execution_count": 0,
   "metadata": {
    "colab": {
     "base_uri": "https://localhost:8080/",
     "height": 34
    },
    "colab_type": "code",
    "id": "R1WcB_Ek6PJc",
    "outputId": "2bf65da1-c6c6-44c6-a141-da483f177aaa"
   },
   "outputs": [
    {
     "data": {
      "text/plain": [
       "0.696969696969697"
      ]
     },
     "execution_count": 147,
     "metadata": {
      "tags": []
     },
     "output_type": "execute_result"
    }
   ],
   "source": [
    "svc_grid.score(pca_test_genes, mapped_labels_test)"
   ]
  },
  {
   "cell_type": "markdown",
   "metadata": {
    "colab_type": "text",
    "id": "r0JI19Lf9dgu"
   },
   "source": [
    "## Considering the inherent order present in the classes"
   ]
  },
  {
   "cell_type": "markdown",
   "metadata": {
    "colab_type": "text",
    "id": "kV7J1qab9dgv"
   },
   "source": [
    "## Ordinal Logistic Regression\n",
    "- AKA ordinal regression\n",
    "- Predict a value which is ordered and also discrete \n",
    "- Seen as a generalization to binary logistic regresion\n",
    "- Relies on correlated genes being removed\n",
    "- Multinomial regression doesnt preserve the inherent ranking"
   ]
  },
  {
   "cell_type": "markdown",
   "metadata": {
    "colab_type": "text",
    "id": "FLRBCnYACfog"
   },
   "source": [
    "- Using 3000 most important genes"
   ]
  },
  {
   "cell_type": "code",
   "execution_count": 0,
   "metadata": {
    "colab": {
     "base_uri": "https://localhost:8080/",
     "height": 34
    },
    "colab_type": "code",
    "id": "6x6nsHOY9dgv",
    "outputId": "e60511cf-8713-4d87-d7b3-54cde6e03ac7"
   },
   "outputs": [
    {
     "data": {
      "text/plain": [
       "0.6920689655172414"
      ]
     },
     "execution_count": 76,
     "metadata": {
      "tags": []
     },
     "output_type": "execute_result"
    }
   ],
   "source": [
    "c = m.LogisticIT()\n",
    "cv_strategy = StratifiedKFold(n_splits=10, random_state=0, shuffle=True)\n",
    "param_grid = {'alpha': np.logspace(-3,3,7)}\n",
    "ridge_grid = GridSearchCV(c, param_grid, cv=cv_strategy, n_jobs=-1, return_train_score=True)\n",
    "ridge_grid.fit(np.array(important_train_scaled), np.array(mapped_labels_train))\n",
    "ridge_grid.best_score_"
   ]
  },
  {
   "cell_type": "code",
   "execution_count": 0,
   "metadata": {
    "colab": {
     "base_uri": "https://localhost:8080/",
     "height": 34
    },
    "colab_type": "code",
    "id": "0wNcCCvm9dg1",
    "outputId": "62495d6a-54da-462e-9d73-af2245432246"
   },
   "outputs": [
    {
     "data": {
      "text/plain": [
       "0.7272727272727273"
      ]
     },
     "execution_count": 77,
     "metadata": {
      "tags": []
     },
     "output_type": "execute_result"
    }
   ],
   "source": [
    "ridge_grid.score(np.array(important_test_scaled), np.array(mapped_labels_test))"
   ]
  },
  {
   "cell_type": "markdown",
   "metadata": {
    "colab_type": "text",
    "id": "z9mAGcQaCnap"
   },
   "source": [
    "- Using top 100 PCs"
   ]
  },
  {
   "cell_type": "code",
   "execution_count": 0,
   "metadata": {
    "colab": {
     "base_uri": "https://localhost:8080/",
     "height": 34
    },
    "colab_type": "code",
    "id": "Zs6G_RDcCrBg",
    "outputId": "57ac9d46-9a75-49af-b878-3e40dfe3f449"
   },
   "outputs": [
    {
     "data": {
      "text/plain": [
       "0.69183908045977"
      ]
     },
     "execution_count": 57,
     "metadata": {
      "tags": []
     },
     "output_type": "execute_result"
    }
   ],
   "source": [
    "c = m.LogisticIT()\n",
    "cv_strategy = StratifiedKFold(n_splits=10, random_state=0, shuffle=True)\n",
    "param_grid = {'alpha': np.logspace(-3,3,7)}\n",
    "ridge_grid_pc = GridSearchCV(c, param_grid, cv=cv_strategy, n_jobs=-1, return_train_score=True)\n",
    "ridge_grid_pc.fit(np.array(pca_train_genes), np.array(mapped_labels_train))\n",
    "ridge_grid_pc.best_score_"
   ]
  },
  {
   "cell_type": "code",
   "execution_count": 0,
   "metadata": {
    "colab": {
     "base_uri": "https://localhost:8080/",
     "height": 34
    },
    "colab_type": "code",
    "id": "G8ie-7_yCyk0",
    "outputId": "d1e46933-3e2e-4353-83f4-0f1fce690360"
   },
   "outputs": [
    {
     "data": {
      "text/plain": [
       "0.7878787878787878"
      ]
     },
     "execution_count": 159,
     "metadata": {
      "tags": []
     },
     "output_type": "execute_result"
    }
   ],
   "source": [
    "ridge_grid_pc.score(np.array(pca_test_genes), np.array(mapped_labels_test))"
   ]
  },
  {
   "cell_type": "markdown",
   "metadata": {
    "colab_type": "text",
    "id": "gFgYrqZF9dg4"
   },
   "source": [
    "# Small Neural Network\n",
    "- Combine the two priors together: ordinal classes and overlapping\n",
    "- http://orca.st.usm.edu/~zwang/files/rank.pdf"
   ]
  },
  {
   "cell_type": "code",
   "execution_count": 19,
   "metadata": {
    "colab": {},
    "colab_type": "code",
    "id": "1fzxBqR29dg5"
   },
   "outputs": [],
   "source": [
    "import torch\n",
    "from torch.utils.data import TensorDataset, DataLoader"
   ]
  },
  {
   "cell_type": "code",
   "execution_count": 20,
   "metadata": {
    "colab": {},
    "colab_type": "code",
    "id": "l1QCW4bl9dg7"
   },
   "outputs": [],
   "source": [
    "def convert_labels(inputs):\n",
    "    converted = np.zeros((len(inputs), 3))\n",
    "    for i in range(len(inputs)):\n",
    "        current_val = inputs[i]\n",
    "        if current_val == 1:\n",
    "            converted[i][1] = 1\n",
    "            converted[i][0] = 1\n",
    "        elif current_val == 2:\n",
    "            converted[i][0] = 1\n",
    "            converted[i][1] = 1\n",
    "            converted[i][2] = 1\n",
    "        else:\n",
    "            converted[i][0] = 1\n",
    "    return converted"
   ]
  },
  {
   "cell_type": "code",
   "execution_count": 21,
   "metadata": {
    "colab": {},
    "colab_type": "code",
    "id": "M5Wofo9e9dg9"
   },
   "outputs": [],
   "source": [
    "# Convert target variables \n",
    "converted_train = convert_labels(mapped_labels_train)\n",
    "converted_test = convert_labels(mapped_labels_test)"
   ]
  },
  {
   "cell_type": "code",
   "execution_count": 22,
   "metadata": {
    "colab": {},
    "colab_type": "code",
    "id": "9gtjkXVy9dhA"
   },
   "outputs": [],
   "source": [
    "# Convert to tensors\n",
    "# First only use the PCs\n",
    "train_tensor = torch.tensor(pca_train_genes.astype(np.float32)) \n",
    "test_tensor = torch.tensor(pca_test_genes.astype(np.float32))\n",
    "train_target_tensor = torch.tensor(converted_train)\n",
    "test_target_tensor = torch.tensor(converted_test)"
   ]
  },
  {
   "cell_type": "code",
   "execution_count": 62,
   "metadata": {
    "colab": {},
    "colab_type": "code",
    "id": "nTM6a-4Q9dhE"
   },
   "outputs": [],
   "source": [
    "#batch_size = 16\n",
    "# Define datasets and dataloaders\n",
    "testing_dataset = TensorDataset(test_tensor, test_target_tensor)\n",
    "training_dataset = TensorDataset(train_tensor, train_target_tensor)\n",
    "test_dataloader = DataLoader(testing_dataset, batch_size = 1)\n",
    "train_dataloader = DataLoader(training_dataset, batch_size = 1)"
   ]
  },
  {
   "cell_type": "code",
   "execution_count": 24,
   "metadata": {
    "colab": {},
    "colab_type": "code",
    "id": "HnEzBg0PDCcW"
   },
   "outputs": [],
   "source": [
    "class EntropyLoss(torch.nn.Module):\n",
    "    def __init__(self):\n",
    "        super(EntropyLoss, self).__init__()\n",
    "\n",
    "    def forward(self, model_output, target):\n",
    "        bc1 = torch.nn.functional.binary_cross_entropy(model_output[:,0], target[:,0])\n",
    "        bc2 = torch.nn.functional.binary_cross_entropy(model_output[:,1], target[:,1])\n",
    "        bc3 = torch.nn.functional.binary_cross_entropy(model_output[:,2], target[:,2])\n",
    "        return bc1 + bc2 + bc3"
   ]
  },
  {
   "cell_type": "code",
   "execution_count": 25,
   "metadata": {
    "colab": {},
    "colab_type": "code",
    "id": "xHGr75Qh9dhG"
   },
   "outputs": [],
   "source": [
    "# Define loss function\n",
    "# loss_function = torch.nn.NLLLoss()\n",
    "loss_function = EntropyLoss()\n",
    "device = torch.device('cuda:0')"
   ]
  },
  {
   "cell_type": "code",
   "execution_count": 26,
   "metadata": {
    "colab": {},
    "colab_type": "code",
    "id": "h2ctxevZ9dhI"
   },
   "outputs": [],
   "source": [
    "class rnn_model(torch.nn.Module):\n",
    "    def __init__(self):\n",
    "        super(rnn_model, self).__init__()\n",
    "        self.layers = torch.nn.Sequential(\n",
    "            torch.nn.Linear(100, 32),\n",
    "            torch.nn.ReLU(),\n",
    "            torch.nn.Linear(32, 64),\n",
    "            torch.nn.ReLU(),\n",
    "            torch.nn.Linear(64, 3),\n",
    "            # Sigmoid funtion on each of the output nodes\n",
    "            torch.nn.Sigmoid()\n",
    "        )\n",
    "\n",
    "    # The last layer hidden states from BERT are used as embeddings/semantic \n",
    "    # representation for the input and therefore, passed into the MLP\n",
    "    def forward(self, x):\n",
    "        out = self.layers(x)\n",
    "        return out"
   ]
  },
  {
   "cell_type": "code",
   "execution_count": 43,
   "metadata": {
    "colab": {},
    "colab_type": "code",
    "id": "QxqW4rGn9dhL"
   },
   "outputs": [],
   "source": [
    "# Compile and train model\n",
    "model = rnn_model()\n",
    "model.cuda()\n",
    "optimizer = torch.optim.Adam(model.parameters(), lr = 1e-5, eps = 1e-8)"
   ]
  },
  {
   "cell_type": "code",
   "execution_count": 48,
   "metadata": {
    "colab": {
     "base_uri": "https://localhost:8080/",
     "height": 1000
    },
    "colab_type": "code",
    "id": "Ok-vVN5D9dhN",
    "outputId": "ef20a0c3-927a-4283-fb4c-ce570a1c0ff5"
   },
   "outputs": [
    {
     "name": "stdout",
     "output_type": "stream",
     "text": [
      "Epoch: 1, Loss: 0.6170555957053837\n",
      "Epoch: 2, Loss: 0.615812256147987\n",
      "Epoch: 3, Loss: 0.6145724418916201\n",
      "Epoch: 4, Loss: 0.6133382689011725\n",
      "Epoch: 5, Loss: 0.6121119190203516\n",
      "Epoch: 6, Loss: 0.6108848123173964\n",
      "Epoch: 7, Loss: 0.6096662714293128\n",
      "Epoch: 8, Loss: 0.6084513499548561\n",
      "Epoch: 9, Loss: 0.607242265814229\n",
      "Epoch: 10, Loss: 0.606036796381599\n",
      "Epoch: 11, Loss: 0.6048302470069182\n",
      "Epoch: 12, Loss: 0.6036319450328225\n",
      "Epoch: 13, Loss: 0.602437602846246\n",
      "Epoch: 14, Loss: 0.6012493599402277\n",
      "Epoch: 15, Loss: 0.6000650250598004\n",
      "Epoch: 16, Loss: 0.5988917201757431\n",
      "Epoch: 17, Loss: 0.5977129630352321\n",
      "Epoch: 18, Loss: 0.5965410721929449\n",
      "Epoch: 19, Loss: 0.5953754006247771\n",
      "Epoch: 20, Loss: 0.5942105674429944\n",
      "Epoch: 21, Loss: 0.5930521739156622\n",
      "Epoch: 22, Loss: 0.5918939717506108\n",
      "Epoch: 23, Loss: 0.5907424727552816\n",
      "Epoch: 24, Loss: 0.589592990906615\n",
      "Epoch: 25, Loss: 0.5884463630224529\n",
      "Epoch: 26, Loss: 0.5873086828934518\n",
      "Epoch: 27, Loss: 0.5861727838453493\n",
      "Epoch: 28, Loss: 0.5850465195743662\n",
      "Epoch: 29, Loss: 0.5839168413689262\n",
      "Epoch: 30, Loss: 0.5827943714041459\n",
      "Epoch: 31, Loss: 0.5816754447786432\n",
      "Epoch: 32, Loss: 0.5805591407575106\n",
      "Epoch: 33, Loss: 0.5794432147553092\n",
      "Epoch: 34, Loss: 0.5783339887857437\n",
      "Epoch: 35, Loss: 0.5772240961852827\n",
      "Epoch: 36, Loss: 0.5761167799171648\n",
      "Epoch: 37, Loss: 0.575017437338829\n",
      "Epoch: 38, Loss: 0.5739185457166872\n",
      "Epoch: 39, Loss: 0.5728267729282379\n",
      "Epoch: 40, Loss: 0.5717363247745916\n",
      "Epoch: 41, Loss: 0.5706517076806018\n",
      "Epoch: 42, Loss: 0.5695684944328508\n",
      "Epoch: 43, Loss: 0.5684826303469507\n",
      "Epoch: 44, Loss: 0.5674022938075819\n",
      "Epoch: 45, Loss: 0.5663188578266847\n",
      "Epoch: 46, Loss: 0.5652386232426292\n",
      "Epoch: 47, Loss: 0.5641648879176692\n",
      "Epoch: 48, Loss: 0.5630814801705512\n",
      "Epoch: 49, Loss: 0.562009533769206\n",
      "Epoch: 50, Loss: 0.5609327233151385\n",
      "Epoch: 51, Loss: 0.5598646174920233\n",
      "Epoch: 52, Loss: 0.5588011067164572\n",
      "Epoch: 53, Loss: 0.5577332863682195\n",
      "Epoch: 54, Loss: 0.5566747008185637\n",
      "Epoch: 55, Loss: 0.5556167340592334\n",
      "Epoch: 56, Loss: 0.5545573916874433\n",
      "Epoch: 57, Loss: 0.5535053461790085\n",
      "Epoch: 58, Loss: 0.5524561930643884\n",
      "Epoch: 59, Loss: 0.5514130082569624\n",
      "Epoch: 60, Loss: 0.5503703512643513\n",
      "Epoch: 61, Loss: 0.5493283224733252\n",
      "Epoch: 62, Loss: 0.5482899232914573\n",
      "Epoch: 63, Loss: 0.5472505916106073\n",
      "Epoch: 64, Loss: 0.5462104897750052\n",
      "Epoch: 65, Loss: 0.5451762809565193\n",
      "Epoch: 66, Loss: 0.5441440775206214\n",
      "Epoch: 67, Loss: 0.5431164346243206\n",
      "Epoch: 68, Loss: 0.5420925883870376\n",
      "Epoch: 69, Loss: 0.5410711482951516\n",
      "Epoch: 70, Loss: 0.5400531966435281\n",
      "Epoch: 71, Loss: 0.5390303440784153\n",
      "Epoch: 72, Loss: 0.538011369736571\n",
      "Epoch: 73, Loss: 0.5369929475219626\n",
      "Epoch: 74, Loss: 0.535973481441799\n",
      "Epoch: 75, Loss: 0.5349575908560502\n",
      "Epoch: 76, Loss: 0.5339451126362148\n",
      "Epoch: 77, Loss: 0.5329318148525137\n",
      "Epoch: 78, Loss: 0.5319193554551978\n",
      "Epoch: 79, Loss: 0.5309082332410311\n",
      "Epoch: 80, Loss: 0.5299032738334254\n",
      "Epoch: 81, Loss: 0.5288928856975154\n",
      "Epoch: 82, Loss: 0.5278869647728769\n",
      "Epoch: 83, Loss: 0.5268828978663996\n",
      "Epoch: 84, Loss: 0.5258780576680836\n",
      "Epoch: 85, Loss: 0.5248737562643854\n",
      "Epoch: 86, Loss: 0.5238798205789766\n",
      "Epoch: 87, Loss: 0.5228765897060695\n",
      "Epoch: 88, Loss: 0.5218909500460875\n",
      "Epoch: 89, Loss: 0.5208982142962908\n",
      "Epoch: 90, Loss: 0.5199158387748819\n",
      "Epoch: 91, Loss: 0.518930636738476\n",
      "Epoch: 92, Loss: 0.517940889847906\n",
      "Epoch: 93, Loss: 0.5169556744788822\n",
      "Epoch: 94, Loss: 0.5159719280506435\n",
      "Epoch: 95, Loss: 0.5149908583415183\n",
      "Epoch: 96, Loss: 0.5140086569284138\n",
      "Epoch: 97, Loss: 0.5130292341897362\n",
      "Epoch: 98, Loss: 0.5120502490746347\n",
      "Epoch: 99, Loss: 0.5110768667961422\n",
      "Epoch: 100, Loss: 0.5100972268142199\n",
      "Epoch: 101, Loss: 0.5091271290653631\n",
      "Epoch: 102, Loss: 0.5081577936285421\n",
      "Epoch: 103, Loss: 0.507192977164921\n",
      "Epoch: 104, Loss: 0.5062276713157955\n",
      "Epoch: 105, Loss: 0.5052644931956342\n",
      "Epoch: 106, Loss: 0.5043044513777682\n",
      "Epoch: 107, Loss: 0.5033438190033561\n",
      "Epoch: 108, Loss: 0.5023845536144156\n",
      "Epoch: 109, Loss: 0.501430523238684\n",
      "Epoch: 110, Loss: 0.500482083151215\n",
      "Epoch: 111, Loss: 0.4995362052791997\n",
      "Epoch: 112, Loss: 0.4985939679961455\n",
      "Epoch: 113, Loss: 0.4976562567447361\n",
      "Epoch: 114, Loss: 0.4967153856628819\n",
      "Epoch: 115, Loss: 0.49577829869169937\n",
      "Epoch: 116, Loss: 0.4948373350657915\n",
      "Epoch: 117, Loss: 0.49390474197111633\n",
      "Epoch: 118, Loss: 0.4929652245421159\n",
      "Epoch: 119, Loss: 0.49203120642586756\n",
      "Epoch: 120, Loss: 0.4910965067775626\n",
      "Epoch: 121, Loss: 0.4901598260590905\n",
      "Epoch: 122, Loss: 0.489227527066281\n",
      "Epoch: 123, Loss: 0.48829348542188344\n",
      "Epoch: 124, Loss: 0.4873616162099336\n",
      "Epoch: 125, Loss: 0.4864309830100913\n",
      "Epoch: 126, Loss: 0.48549817659352956\n",
      "Epoch: 127, Loss: 0.48457551473065424\n",
      "Epoch: 128, Loss: 0.4836469425966865\n",
      "Epoch: 129, Loss: 0.4827261441632321\n",
      "Epoch: 130, Loss: 0.4818120873288104\n",
      "Epoch: 131, Loss: 0.4808984594909768\n",
      "Epoch: 132, Loss: 0.47998219650042684\n",
      "Epoch: 133, Loss: 0.47907031601981115\n",
      "Epoch: 134, Loss: 0.478159226869282\n",
      "Epoch: 135, Loss: 0.4772562776741229\n",
      "Epoch: 136, Loss: 0.47634544890177877\n",
      "Epoch: 137, Loss: 0.47544317339595993\n",
      "Epoch: 138, Loss: 0.47453910896652624\n",
      "Epoch: 139, Loss: 0.47363267054683283\n",
      "Epoch: 140, Loss: 0.47273268589847967\n",
      "Epoch: 141, Loss: 0.4718314730807355\n",
      "Epoch: 142, Loss: 0.4709251773984809\n",
      "Epoch: 143, Loss: 0.47002931801896347\n",
      "Epoch: 144, Loss: 0.4691248026333357\n",
      "Epoch: 145, Loss: 0.46822567676243027\n",
      "Epoch: 146, Loss: 0.46732731869346217\n",
      "Epoch: 147, Loss: 0.466427710495497\n",
      "Epoch: 148, Loss: 0.46553645949614675\n",
      "Epoch: 149, Loss: 0.46464576454539047\n",
      "Epoch: 150, Loss: 0.46375559584090587\n",
      "Epoch: 151, Loss: 0.4628704331423107\n",
      "Epoch: 152, Loss: 0.4619802840446171\n",
      "Epoch: 153, Loss: 0.4610972639761473\n",
      "Epoch: 154, Loss: 0.46021992281863566\n",
      "Epoch: 155, Loss: 0.45934287262590306\n",
      "Epoch: 156, Loss: 0.458471489580054\n",
      "Epoch: 157, Loss: 0.4576010233477542\n",
      "Epoch: 158, Loss: 0.45672913209388133\n",
      "Epoch: 159, Loss: 0.4558650780665247\n",
      "Epoch: 160, Loss: 0.45499714816871445\n",
      "Epoch: 161, Loss: 0.4541282128346594\n",
      "Epoch: 162, Loss: 0.4532675617619565\n",
      "Epoch: 163, Loss: 0.4524011674680208\n",
      "Epoch: 164, Loss: 0.4515484673412223\n",
      "Epoch: 165, Loss: 0.4506904953404477\n",
      "Epoch: 166, Loss: 0.4498315547641955\n",
      "Epoch: 167, Loss: 0.4489772602131492\n",
      "Epoch: 168, Loss: 0.44811995327472687\n",
      "Epoch: 169, Loss: 0.4472681048669313\n",
      "Epoch: 170, Loss: 0.44641794185889394\n",
      "Epoch: 171, Loss: 0.44556697340388046\n",
      "Epoch: 172, Loss: 0.4447146011026282\n",
      "Epoch: 173, Loss: 0.4438641988917401\n",
      "Epoch: 174, Loss: 0.44301746001369074\n",
      "Epoch: 175, Loss: 0.44217298924922943\n",
      "Epoch: 176, Loss: 0.4413298376296696\n",
      "Epoch: 177, Loss: 0.4404813113965486\n",
      "Epoch: 178, Loss: 0.4396463216919648\n",
      "Epoch: 179, Loss: 0.43879880167936025\n",
      "Epoch: 180, Loss: 0.4379591777136451\n",
      "Epoch: 181, Loss: 0.4371214924674285\n",
      "Epoch: 182, Loss: 0.43627605940166275\n",
      "Epoch: 183, Loss: 0.4354399505414461\n",
      "Epoch: 184, Loss: 0.43460194374385636\n",
      "Epoch: 185, Loss: 0.43376918529209335\n",
      "Epoch: 186, Loss: 0.4329328121323335\n",
      "Epoch: 187, Loss: 0.4320992835258183\n",
      "Epoch: 188, Loss: 0.43127040251305226\n",
      "Epoch: 189, Loss: 0.4304434798265758\n",
      "Epoch: 190, Loss: 0.4296161226536098\n",
      "Epoch: 191, Loss: 0.42878936858553635\n",
      "Epoch: 192, Loss: 0.4279568979614659\n",
      "Epoch: 193, Loss: 0.42712683426706416\n",
      "Epoch: 194, Loss: 0.42630355060100555\n",
      "Epoch: 195, Loss: 0.42547735963997085\n",
      "Epoch: 196, Loss: 0.42465519356100184\n",
      "Epoch: 197, Loss: 0.42384026709355804\n",
      "Epoch: 198, Loss: 0.42301458198773234\n",
      "Epoch: 199, Loss: 0.4221968392008229\n",
      "Epoch: 200, Loss: 0.42138105474020304\n",
      "Epoch: 201, Loss: 0.42056114187366084\n",
      "Epoch: 202, Loss: 0.41974307282974843\n",
      "Epoch: 203, Loss: 0.41892402109346893\n",
      "Epoch: 204, Loss: 0.41810633006848785\n",
      "Epoch: 205, Loss: 0.41727951718004125\n",
      "Epoch: 206, Loss: 0.4164653600830781\n",
      "Epoch: 207, Loss: 0.41564413120872096\n",
      "Epoch: 208, Loss: 0.41482953570391\n",
      "Epoch: 209, Loss: 0.41401434336837967\n",
      "Epoch: 210, Loss: 0.41320065134450007\n",
      "Epoch: 211, Loss: 0.41239423422436966\n",
      "Epoch: 212, Loss: 0.4115847451122184\n",
      "Epoch: 213, Loss: 0.4107738388212104\n",
      "Epoch: 214, Loss: 0.409974068403244\n",
      "Epoch: 215, Loss: 0.40916336523859126\n",
      "Epoch: 216, Loss: 0.4083620537268488\n",
      "Epoch: 217, Loss: 0.4075589525072198\n",
      "Epoch: 218, Loss: 0.40676367204440267\n",
      "Epoch: 219, Loss: 0.40596556114523036\n",
      "Epoch: 220, Loss: 0.40517018735408783\n",
      "Epoch: 221, Loss: 0.4043772102970826\n",
      "Epoch: 222, Loss: 0.40358660330897883\n",
      "Epoch: 223, Loss: 0.40279717233620194\n",
      "Epoch: 224, Loss: 0.40201275599630254\n",
      "Epoch: 225, Loss: 0.4012241728211704\n"
     ]
    },
    {
     "name": "stdout",
     "output_type": "stream",
     "text": [
      "Epoch: 226, Loss: 0.40043556102012334\n",
      "Epoch: 227, Loss: 0.3996558863865702\n",
      "Epoch: 228, Loss: 0.3988671804729261\n",
      "Epoch: 229, Loss: 0.3980836366352282\n",
      "Epoch: 230, Loss: 0.3973056164227034\n",
      "Epoch: 231, Loss: 0.3965231525270562\n",
      "Epoch: 232, Loss: 0.3957536549944627\n",
      "Epoch: 233, Loss: 0.3949756430167901\n",
      "Epoch: 234, Loss: 0.39420585530368907\n",
      "Epoch: 235, Loss: 0.3934297604780448\n",
      "Epoch: 236, Loss: 0.3926613636707005\n",
      "Epoch: 237, Loss: 0.39188791968320547\n",
      "Epoch: 238, Loss: 0.39112074124185664\n",
      "Epoch: 239, Loss: 0.3903519746504332\n",
      "Epoch: 240, Loss: 0.38958424604252767\n",
      "Epoch: 241, Loss: 0.3888169542739266\n",
      "Epoch: 242, Loss: 0.388061475204794\n",
      "Epoch: 243, Loss: 0.38730000586886154\n",
      "Epoch: 244, Loss: 0.38654087797591563\n",
      "Epoch: 245, Loss: 0.38578100659345327\n",
      "Epoch: 246, Loss: 0.38502421426145655\n",
      "Epoch: 247, Loss: 0.38427032255812693\n",
      "Epoch: 248, Loss: 0.3835099237529855\n",
      "Epoch: 249, Loss: 0.38275875268798126\n",
      "Epoch: 250, Loss: 0.3820089705680546\n",
      "Epoch: 251, Loss: 0.38125526316856084\n",
      "Epoch: 252, Loss: 0.38050596494423716\n",
      "Epoch: 253, Loss: 0.3797586023023254\n",
      "Epoch: 254, Loss: 0.3790102832411465\n",
      "Epoch: 255, Loss: 0.3782654212493646\n",
      "Epoch: 256, Loss: 0.377524523358596\n",
      "Epoch: 257, Loss: 0.3767837615389573\n",
      "Epoch: 258, Loss: 0.3760413398083888\n",
      "Epoch: 259, Loss: 0.3753045734606291\n",
      "Epoch: 260, Loss: 0.3745650715733829\n",
      "Epoch: 261, Loss: 0.3738353299467187\n",
      "Epoch: 262, Loss: 0.3730957398289128\n",
      "Epoch: 263, Loss: 0.37236268739951284\n",
      "Epoch: 264, Loss: 0.37163356377890233\n",
      "Epoch: 265, Loss: 0.3708977977696218\n",
      "Epoch: 266, Loss: 0.37016424928840835\n",
      "Epoch: 267, Loss: 0.36943361947410985\n",
      "Epoch: 268, Loss: 0.3687149313719649\n",
      "Epoch: 269, Loss: 0.36798040255119924\n",
      "Epoch: 270, Loss: 0.3672551081368798\n",
      "Epoch: 271, Loss: 0.3665358714367214\n",
      "Epoch: 272, Loss: 0.36581200243611084\n",
      "Epoch: 273, Loss: 0.3650951569801883\n",
      "Epoch: 274, Loss: 0.36437013941375834\n",
      "Epoch: 275, Loss: 0.3636515195432462\n",
      "Epoch: 276, Loss: 0.36292843089291926\n",
      "Epoch: 277, Loss: 0.36220480540865346\n",
      "Epoch: 278, Loss: 0.36148563772439957\n",
      "Epoch: 279, Loss: 0.36077276146725606\n",
      "Epoch: 280, Loss: 0.3600456969518411\n",
      "Epoch: 281, Loss: 0.35933155919376175\n",
      "Epoch: 282, Loss: 0.35861684421175405\n",
      "Epoch: 283, Loss: 0.35789938859249415\n",
      "Epoch: 284, Loss: 0.35718661272212077\n",
      "Epoch: 285, Loss: 0.35646754738531616\n",
      "Epoch: 286, Loss: 0.3557645321676606\n",
      "Epoch: 287, Loss: 0.35504563388071564\n",
      "Epoch: 288, Loss: 0.35433562844991684\n",
      "Epoch: 289, Loss: 0.3536283228742449\n",
      "Epoch: 290, Loss: 0.3529239238092774\n",
      "Epoch: 291, Loss: 0.35221770954759496\n",
      "Epoch: 292, Loss: 0.35151565976833044\n",
      "Epoch: 293, Loss: 0.35081280454208974\n",
      "Epoch: 294, Loss: 0.350103644163985\n",
      "Epoch: 295, Loss: 0.3494049565572488\n",
      "Epoch: 296, Loss: 0.34869332101784256\n",
      "Epoch: 297, Loss: 0.3479968203525794\n",
      "Epoch: 298, Loss: 0.3472938819935447\n",
      "Epoch: 299, Loss: 0.3465917592770175\n",
      "Epoch: 300, Loss: 0.34589381672834096\n"
     ]
    }
   ],
   "source": [
    "epochs = 300\n",
    "for e in range(0, epochs):\n",
    "    model.train()\n",
    "    current_loss = 0\n",
    "    for i, (X, y) in enumerate(train_dataloader):\n",
    "        optimizer.zero_grad()\n",
    "        \n",
    "        # To GPU\n",
    "        X = X.to(device)\n",
    "        y = y.to(device).double()\n",
    "        output = model(X).double()\n",
    "        loss = loss_function(output, y)\n",
    "        loss = loss.type(torch.cuda.FloatTensor)\n",
    "        loss.backward()\n",
    "        optimizer.step()\n",
    "        current_loss += loss.item()\n",
    "        torch.cuda.empty_cache()\n",
    "    print(f'Epoch: {e+1}, Loss: {current_loss/len(train_dataloader)}')"
   ]
  },
  {
   "cell_type": "code",
   "execution_count": 49,
   "metadata": {
    "colab": {},
    "colab_type": "code",
    "id": "rISIjKfj9dhR"
   },
   "outputs": [],
   "source": [
    "test_outputs = []\n",
    "for i, (X, y) in enumerate(test_dataloader):\n",
    "    optimizer.zero_grad()\n",
    "    X = X.to(device)\n",
    "    output = model(X)   \n",
    "    test_outputs.append(output.cpu().detach().numpy())"
   ]
  },
  {
   "cell_type": "code",
   "execution_count": 50,
   "metadata": {
    "colab": {},
    "colab_type": "code",
    "id": "1Dwl9QN0K17u"
   },
   "outputs": [],
   "source": [
    "test_outputs_converted = []\n",
    "for i in range(len(test_outputs)):\n",
    "    current = test_outputs[i][0]\n",
    "    add = [1 if x >= 0.50 else 0 for x in current]\n",
    "    test_outputs_converted.append(add)\n",
    "test_outputs_converted = np.array(test_outputs_converted)"
   ]
  },
  {
   "cell_type": "code",
   "execution_count": 52,
   "metadata": {
    "colab": {},
    "colab_type": "code",
    "id": "7PoCoH7CmrWH"
   },
   "outputs": [],
   "source": [
    "test_outputs_labels = []\n",
    "for label in test_outputs_converted:\n",
    "    if label[0] == 1 and label[1] == 1 and label[2] == 1:\n",
    "        test_outputs_labels.append('WHO IV')\n",
    "    elif label[0] == 1 and label[1] == 1:\n",
    "        test_outputs_labels.append('WHO III')\n",
    "    else:\n",
    "        test_outputs_labels.append('WHO II')"
   ]
  },
  {
   "cell_type": "code",
   "execution_count": 51,
   "metadata": {},
   "outputs": [
    {
     "name": "stdout",
     "output_type": "stream",
     "text": [
      "Testing Accuracy: 0.8181818181818182\n"
     ]
    }
   ],
   "source": [
    "accuracy = 0\n",
    "missed = []\n",
    "for i in range(len(test_outputs_converted)):\n",
    "    if collections.Counter(test_outputs_converted[i]) == collections.Counter(converted_test[i]):\n",
    "        accuracy += 1\n",
    "    else:\n",
    "        missed.append(i)\n",
    "print(f'Testing Accuracy: {accuracy/33}')"
   ]
  },
  {
   "cell_type": "markdown",
   "metadata": {},
   "source": [
    "# Plot the labels given to the training and testing data by MLP"
   ]
  },
  {
   "cell_type": "code",
   "execution_count": 63,
   "metadata": {},
   "outputs": [],
   "source": [
    "train_outputs = []\n",
    "for i, (X, y) in enumerate(train_dataloader):\n",
    "    optimizer.zero_grad()\n",
    "    X = X.to(device)\n",
    "    output = model(X)   \n",
    "    train_outputs.append(output.cpu().detach().numpy())"
   ]
  },
  {
   "cell_type": "code",
   "execution_count": 65,
   "metadata": {},
   "outputs": [],
   "source": [
    "train_outputs_converted = []\n",
    "for i in range(len(train_outputs)):\n",
    "    current = train_outputs[i][0]\n",
    "    add = [1 if x >= 0.50 else 0 for x in current]\n",
    "    train_outputs_converted.append(add)\n",
    "train_outputs_converted = np.array(train_outputs_converted)"
   ]
  },
  {
   "cell_type": "code",
   "execution_count": 66,
   "metadata": {},
   "outputs": [],
   "source": [
    "train_output_labels = []\n",
    "for label in train_outputs_converted:\n",
    "    if label[0] == 1 and label[1] == 1 and label[2] == 1:\n",
    "        train_output_labels.append('WHO IV')\n",
    "    elif label[0] == 1 and label[1] == 1:\n",
    "        train_output_labels.append('WHO III')\n",
    "    else:\n",
    "        train_output_labels.append('WHO II')"
   ]
  },
  {
   "cell_type": "code",
   "execution_count": 70,
   "metadata": {},
   "outputs": [
    {
     "data": {
      "image/png": "[encoded data removed]",
      "text/plain": [
       "<Figure size 1440x720 with 1 Axes>"
      ]
     },
     "metadata": {
      "needs_background": "light"
     },
     "output_type": "display_data"
    }
   ],
   "source": [
    "pca = PCA(n_components=2)\n",
    "high_scaler = StandardScaler()\n",
    "train_scaled = high_scaler.fit_transform(train_data)\n",
    "test_scaled = high_scaler.transform(test_data)\n",
    "transformed_data = pca.fit_transform(train_scaled)\n",
    "transformed_data_test = pca.transform(test_scaled)\n",
    "training_plot = pd.DataFrame(data = transformed_data, columns = ['principal component 1', 'principal component 2'])\n",
    "testing_plot = pd.DataFrame(data = transformed_data_test, columns = ['principal component 1', 'principal component 2'])\n",
    "class_labels_df_train = pd.DataFrame(train_output_labels)\n",
    "class_labels_df_test = pd.DataFrame(test_outputs_labels)\n",
    "training_df = pd.concat([training_plot, class_labels_df_train], axis = 1)\n",
    "training_df.columns = ['PC1', 'PC2', 'Grade']\n",
    "testing_df = pd.concat([testing_plot, class_labels_df_test], axis = 1)\n",
    "testing_df.columns = ['PC1', 'PC2', 'Grade'] \n",
    "fig = plt.figure(figsize = (20, 10))\n",
    "ax = fig.add_subplot(1,2,1) \n",
    "ax.set_xlabel('Principal Component 1', fontsize = 15)\n",
    "ax.set_ylabel('Principal Component 2', fontsize = 15)\n",
    "targets = ['WHO II', 'WHO III', 'WHO IV']\n",
    "colors = ['r', 'g', 'b']\n",
    "for target, color in zip(targets,colors):\n",
    "    indicesToKeep = training_df['Grade'] == target\n",
    "    ax.scatter(training_df.loc[indicesToKeep, 'PC1']\n",
    "               , training_df.loc[indicesToKeep, 'PC2']\n",
    "               , c = color\n",
    "               , s = 50, alpha = 0.15)\n",
    "for target, color in zip(targets,colors):\n",
    "    indicesToKeep = testing_df['Grade'] == target\n",
    "    ax.scatter(testing_df.loc[indicesToKeep, 'PC1']\n",
    "               , testing_df.loc[indicesToKeep, 'PC2']\n",
    "               , c = color\n",
    "               , s = 50)\n",
    "ax.legend(targets)\n",
    "ax.set_title('MLP Predictions using top 100 PCs')\n",
    "ax.grid()"
   ]
  },
  {
   "cell_type": "code",
   "execution_count": 72,
   "metadata": {},
   "outputs": [
    {
     "data": {
      "image/png": "[encoded data removed]",
      "text/plain": [
       "<Figure size 1440x720 with 1 Axes>"
      ]
     },
     "metadata": {
      "needs_background": "light"
     },
     "output_type": "display_data"
    }
   ],
   "source": [
    "# Ground Truth\n",
    "pca = PCA(n_components=2)\n",
    "high_scaler = StandardScaler()\n",
    "train_scaled = high_scaler.fit_transform(train_data)\n",
    "test_scaled = high_scaler.transform(test_data)\n",
    "transformed_data = pca.fit_transform(train_scaled)\n",
    "transformed_data_test = pca.transform(test_scaled)\n",
    "training_plot = pd.DataFrame(data = transformed_data, columns = ['principal component 1', 'principal component 2'])\n",
    "testing_plot = pd.DataFrame(data = transformed_data_test, columns = ['principal component 1', 'principal component 2'])\n",
    "class_labels_df_train = pd.DataFrame(train_labels)\n",
    "class_labels_df_test = pd.DataFrame(test_labels)\n",
    "training_df = pd.concat([training_plot, class_labels_df_train], axis = 1)\n",
    "training_df.columns = ['PC1', 'PC2', 'Grade']\n",
    "testing_df = pd.concat([testing_plot, class_labels_df_test], axis = 1)\n",
    "testing_df.columns = ['PC1', 'PC2', 'Grade'] \n",
    "fig = plt.figure(figsize = (20, 10))\n",
    "ax = fig.add_subplot(1,2,1) \n",
    "ax.set_xlabel('Principal Component 1', fontsize = 15)\n",
    "ax.set_ylabel('Principal Component 2', fontsize = 15)\n",
    "targets = ['WHO II', 'WHO III', 'WHO IV']\n",
    "colors = ['r', 'g', 'b']\n",
    "for target, color in zip(targets,colors):\n",
    "    indicesToKeep = training_df['Grade'] == target\n",
    "    ax.scatter(training_df.loc[indicesToKeep, 'PC1']\n",
    "               , training_df.loc[indicesToKeep, 'PC2']\n",
    "               , c = color\n",
    "               , s = 50, alpha = 0.15)\n",
    "for target, color in zip(targets,colors):\n",
    "    indicesToKeep = testing_df['Grade'] == target\n",
    "    ax.scatter(testing_df.loc[indicesToKeep, 'PC1']\n",
    "               , testing_df.loc[indicesToKeep, 'PC2']\n",
    "               , c = color\n",
    "               , s = 50)\n",
    "ax.set_title('Ground Truth Labels')\n",
    "ax.legend(targets)\n",
    "ax.grid()"
   ]
  },
  {
   "cell_type": "markdown",
   "metadata": {
    "colab_type": "text",
    "id": "C2c64Sea9dhU"
   },
   "source": [
    "# Feature Analysis on the top performing models"
   ]
  },
  {
   "cell_type": "code",
   "execution_count": 20,
   "metadata": {
    "colab": {},
    "colab_type": "code",
    "id": "ywt8j2S89dhV"
   },
   "outputs": [],
   "source": [
    "from sklearn.inspection import permutation_importance\n",
    "from sklearn.feature_selection import RFE"
   ]
  },
  {
   "cell_type": "markdown",
   "metadata": {
    "colab_type": "text",
    "id": "Xr0SoGSiRvI-"
   },
   "source": [
    "# Permutation Importance"
   ]
  },
  {
   "cell_type": "code",
   "execution_count": 25,
   "metadata": {
    "colab": {},
    "colab_type": "code",
    "id": "mGQgknZDH9uq"
   },
   "outputs": [],
   "source": [
    "# permutation importance\n",
    "pi = permutation_importance(ridge_grid_pc.best_estimator_, pca_train_genes, mapped_labels_train, n_repeats=10, random_state=0)\n",
    "pi_mean_vals = pi['importances_mean']\n",
    "cols = pd.DataFrame(pca_train_genes).columns\n",
    "pi_importances_pairs = zip(cols, pi_mean_vals)\n",
    "pi_pairs_sorted = sorted(pi_importances_pairs, key=lambda x: x[1], reverse=True)"
   ]
  },
  {
   "cell_type": "code",
   "execution_count": 26,
   "metadata": {
    "colab": {},
    "colab_type": "code",
    "id": "C9ROkLoJKKsO"
   },
   "outputs": [],
   "source": [
    "# Get all the non-zero importance genes\n",
    "non_zero_pi = [x[0] for x in pi_pairs_sorted if x[1] > 0]"
   ]
  },
  {
   "cell_type": "markdown",
   "metadata": {
    "colab_type": "text",
    "id": "Ns3IEprqR3n3"
   },
   "source": [
    "# Recursive Feature Elimination"
   ]
  },
  {
   "cell_type": "code",
   "execution_count": 27,
   "metadata": {
    "colab": {},
    "colab_type": "code",
    "id": "NS168TyrLb3Y"
   },
   "outputs": [],
   "source": [
    "#rfe\n",
    "selector = RFE(ridge_grid_pc.best_estimator_, 1, step=1)\n",
    "selector = selector.fit(pca_train_genes, mapped_labels_train)\n",
    "ranking_pairs = zip(pd.DataFrame(pca_train_genes).columns, selector.ranking_)\n",
    "ranking_pairs_sorted = sorted(ranking_pairs, key=lambda x: x[1])"
   ]
  },
  {
   "cell_type": "code",
   "execution_count": 28,
   "metadata": {
    "colab": {},
    "colab_type": "code",
    "id": "acSD9CpVQ70X"
   },
   "outputs": [],
   "source": [
    "top_100_rfe = []\n",
    "for i in range(100):\n",
    "    top_100_rfe.append(ranking_pairs_sorted[i][0])"
   ]
  },
  {
   "cell_type": "markdown",
   "metadata": {
    "colab_type": "text",
    "id": "xwMTkukweHSk"
   },
   "source": [
    "# Exploring other feature selection/reduction techniques"
   ]
  },
  {
   "cell_type": "markdown",
   "metadata": {
    "colab_type": "text",
    "id": "xBEzuAWWngmT"
   },
   "source": [
    "# Sparse PCA: PCA with L1 Regularization"
   ]
  },
  {
   "cell_type": "code",
   "execution_count": 14,
   "metadata": {
    "colab": {},
    "colab_type": "code",
    "id": "zXbCehDQmmsn"
   },
   "outputs": [],
   "source": [
    "n = 2\n",
    "sparse_pca = MiniBatchSparsePCA(n_components = n).fit(train_scaled)\n",
    "sparse_train_genes = sparse_pca.transform(train_scaled)\n",
    "sparse_test_genes = sparse_pca.transform(test_scaled)"
   ]
  },
  {
   "cell_type": "markdown",
   "metadata": {
    "colab_type": "text",
    "id": "_uMHnuIT36ov"
   },
   "source": [
    "# Ordinal Regression on Sparse PCA"
   ]
  },
  {
   "cell_type": "code",
   "execution_count": 0,
   "metadata": {
    "colab": {
     "base_uri": "https://localhost:8080/",
     "height": 34
    },
    "colab_type": "code",
    "id": "Ii_WtBDB36Iy",
    "outputId": "e8065b1b-ccf9-4967-ff81-51c56d228a5f"
   },
   "outputs": [
    {
     "data": {
      "text/plain": [
       "0.6578160919540229"
      ]
     },
     "execution_count": 25,
     "metadata": {
      "tags": []
     },
     "output_type": "execute_result"
    }
   ],
   "source": [
    "c = m.LogisticIT()\n",
    "cv_strategy = StratifiedKFold(n_splits=10, random_state=0, shuffle=True)\n",
    "param_grid = {'alpha': np.logspace(-3,3,7)}\n",
    "ridge_grid = GridSearchCV(c, param_grid, cv=cv_strategy, n_jobs=-1, return_train_score=True)\n",
    "ridge_grid.fit(np.array(sparse_train_genes), np.array(mapped_labels_train))\n",
    "ridge_grid.best_score_"
   ]
  },
  {
   "cell_type": "code",
   "execution_count": 0,
   "metadata": {
    "colab": {
     "base_uri": "https://localhost:8080/",
     "height": 34
    },
    "colab_type": "code",
    "id": "Zov_InGd4GM8",
    "outputId": "07509ee1-9722-4657-ee6e-90485a406fc9"
   },
   "outputs": [
    {
     "data": {
      "text/plain": [
       "0.696969696969697"
      ]
     },
     "execution_count": 26,
     "metadata": {
      "tags": []
     },
     "output_type": "execute_result"
    }
   ],
   "source": [
    "ridge_grid.score(np.array(sparse_test_genes), np.array(mapped_labels_test))"
   ]
  },
  {
   "cell_type": "markdown",
   "metadata": {},
   "source": [
    "# Kernel SVM on Sparse PCA"
   ]
  },
  {
   "cell_type": "code",
   "execution_count": 17,
   "metadata": {},
   "outputs": [
    {
     "data": {
      "text/plain": [
       "0.661264367816092"
      ]
     },
     "execution_count": 17,
     "metadata": {},
     "output_type": "execute_result"
    }
   ],
   "source": [
    "cv_strategy = StratifiedKFold(n_splits=10, random_state=0, shuffle=True)\n",
    "parameters = {'kernel':('linear', 'rbf'), 'C': np.logspace(-3, 3, 4)}\n",
    "svc_grid = GridSearchCV(SVC(), parameters, cv=cv_strategy, n_jobs=-1, return_train_score=True)\n",
    "svc_grid.fit(np.array(sparse_train_genes), np.array(mapped_labels_train))\n",
    "svc_grid.best_score_"
   ]
  },
  {
   "cell_type": "code",
   "execution_count": 18,
   "metadata": {},
   "outputs": [
    {
     "data": {
      "text/plain": [
       "0.696969696969697"
      ]
     },
     "execution_count": 18,
     "metadata": {},
     "output_type": "execute_result"
    }
   ],
   "source": [
    "svc_grid.score(np.array(sparse_test_genes), np.array(mapped_labels_test))"
   ]
  },
  {
   "cell_type": "markdown",
   "metadata": {
    "colab_type": "text",
    "id": "XewOPkaN8skX"
   },
   "source": [
    "# Neural Network for sparse PCA"
   ]
  },
  {
   "cell_type": "code",
   "execution_count": 0,
   "metadata": {
    "colab": {},
    "colab_type": "code",
    "id": "88DNMoMP_QFm"
   },
   "outputs": [],
   "source": [
    "train_target_tensor = torch.tensor(converted_train)\n",
    "test_target_tensor = torch.tensor(converted_test)"
   ]
  },
  {
   "cell_type": "code",
   "execution_count": 0,
   "metadata": {
    "colab": {},
    "colab_type": "code",
    "id": "Y_dmpVsW8zJ2"
   },
   "outputs": [],
   "source": [
    "train_tensor = torch.tensor(sparse_important_train.values.astype(np.float32)) \n",
    "test_tensor = torch.tensor(sparse_important_test.values.astype(np.float32))\n",
    "batch_size = 16\n",
    "# Define datasets and dataloaders\n",
    "testing_dataset = TensorDataset(test_tensor, test_target_tensor)\n",
    "training_dataset = TensorDataset(train_tensor, train_target_tensor)\n",
    "test_dataloader = DataLoader(testing_dataset, batch_size = 1)\n",
    "train_dataloader = DataLoader(training_dataset, batch_size = batch_size )"
   ]
  },
  {
   "cell_type": "code",
   "execution_count": 0,
   "metadata": {
    "colab": {},
    "colab_type": "code",
    "id": "3ApCPd0Z_cDQ"
   },
   "outputs": [],
   "source": [
    "class rnn_model(torch.nn.Module):\n",
    "    def __init__(self):\n",
    "        super(rnn_model, self).__init__()\n",
    "        self.layers = torch.nn.Sequential(\n",
    "            torch.nn.Linear(len(sparse_important_train.columns), 32),\n",
    "            torch.nn.ReLU(),\n",
    "            torch.nn.Linear(32, 64),\n",
    "            torch.nn.ReLU(),\n",
    "            torch.nn.Linear(64, 3),\n",
    "            # Sigmoid funtion on each of the output nodes\n",
    "            torch.nn.Sigmoid()\n",
    "        )\n",
    "\n",
    "    # The last layer hidden states from BERT are used as embeddings/semantic \n",
    "    # representation for the input and therefore, passed into the MLP\n",
    "    def forward(self, x):\n",
    "        out = self.layers(x)\n",
    "        return out"
   ]
  },
  {
   "cell_type": "code",
   "execution_count": 0,
   "metadata": {
    "colab": {},
    "colab_type": "code",
    "id": "IQmV3Kn2_m9h"
   },
   "outputs": [],
   "source": [
    "# Compile and train model\n",
    "model = rnn_model()\n",
    "model.cuda()\n",
    "optimizer = torch.optim.Adam(model.parameters(), lr = 1e-5, eps = 1e-8)"
   ]
  },
  {
   "cell_type": "code",
   "execution_count": 0,
   "metadata": {
    "colab": {
     "base_uri": "https://localhost:8080/",
     "height": 1000
    },
    "colab_type": "code",
    "id": "DcfV21P4_uSG",
    "outputId": "10b3e11f-eaa2-49a3-d9be-f86a9e96187a"
   },
   "outputs": [
    {
     "name": "stdout",
     "output_type": "stream",
     "text": [
      "Epoch: 1, Loss: 2.085032394057826\n",
      "Epoch: 2, Loss: 2.0490491954903853\n",
      "Epoch: 3, Loss: 2.0117379803406563\n",
      "Epoch: 4, Loss: 1.9732023979488171\n",
      "Epoch: 5, Loss: 1.934707854923449\n",
      "Epoch: 6, Loss: 1.8973391495252911\n",
      "Epoch: 7, Loss: 1.8607337412081266\n",
      "Epoch: 8, Loss: 1.8239907277257819\n",
      "Epoch: 9, Loss: 1.7876568279768292\n",
      "Epoch: 10, Loss: 1.7524298366747404\n",
      "Epoch: 11, Loss: 1.7185349025224383\n",
      "Epoch: 12, Loss: 1.6869918296211643\n",
      "Epoch: 13, Loss: 1.6579956631911428\n",
      "Epoch: 14, Loss: 1.6310610582954006\n",
      "Epoch: 15, Loss: 1.6061146886725175\n",
      "Epoch: 16, Loss: 1.5831599110051204\n",
      "Epoch: 17, Loss: 1.5619800467240184\n",
      "Epoch: 18, Loss: 1.5422855050940263\n",
      "Epoch: 19, Loss: 1.5239977334675037\n",
      "Epoch: 20, Loss: 1.5069608249162372\n",
      "Epoch: 21, Loss: 1.4910249647341276\n",
      "Epoch: 22, Loss: 1.4760495737979287\n",
      "Epoch: 23, Loss: 1.461932383085552\n",
      "Epoch: 24, Loss: 1.4485766887664795\n",
      "Epoch: 25, Loss: 1.4359307791057385\n",
      "Epoch: 26, Loss: 1.4238866693095158\n",
      "Epoch: 27, Loss: 1.4124288182509572\n",
      "Epoch: 28, Loss: 1.4016022180256091\n",
      "Epoch: 29, Loss: 1.3912399693539268\n",
      "Epoch: 30, Loss: 1.3813673759761609\n",
      "Epoch: 31, Loss: 1.371906838918987\n",
      "Epoch: 32, Loss: 1.3627636056197316\n",
      "Epoch: 33, Loss: 1.3540414697245549\n",
      "Epoch: 34, Loss: 1.3457352926856594\n",
      "Epoch: 35, Loss: 1.3378342954736007\n",
      "Epoch: 36, Loss: 1.3303291044737164\n",
      "Epoch: 37, Loss: 1.3231470271160728\n",
      "Epoch: 38, Loss: 1.3163043825249923\n",
      "Epoch: 39, Loss: 1.3097596482226723\n",
      "Epoch: 40, Loss: 1.30348759575894\n",
      "Epoch: 41, Loss: 1.2975057990927445\n",
      "Epoch: 42, Loss: 1.2917701382386058\n",
      "Epoch: 43, Loss: 1.2862646140550311\n",
      "Epoch: 44, Loss: 1.2809516567932933\n",
      "Epoch: 45, Loss: 1.2757941108000905\n",
      "Epoch: 46, Loss: 1.2707644638262297\n",
      "Epoch: 47, Loss: 1.2658307113145526\n",
      "Epoch: 48, Loss: 1.260972211235448\n",
      "Epoch: 49, Loss: 1.2562359508715177\n",
      "Epoch: 50, Loss: 1.25160088664607\n",
      "Epoch: 51, Loss: 1.2470564465773732\n",
      "Epoch: 52, Loss: 1.2426013381857621\n",
      "Epoch: 53, Loss: 1.2382384915100901\n",
      "Epoch: 54, Loss: 1.2339551950755872\n",
      "Epoch: 55, Loss: 1.2296869190115678\n",
      "Epoch: 56, Loss: 1.2254218176791543\n",
      "Epoch: 57, Loss: 1.2211991924988597\n",
      "Epoch: 58, Loss: 1.216960913256595\n",
      "Epoch: 59, Loss: 1.212691489018892\n",
      "Epoch: 60, Loss: 1.208390944882443\n",
      "Epoch: 61, Loss: 1.2040629386901855\n",
      "Epoch: 62, Loss: 1.1997502477545487\n",
      "Epoch: 63, Loss: 1.1954980461220992\n",
      "Epoch: 64, Loss: 1.1912820464686344\n",
      "Epoch: 65, Loss: 1.1871128646950972\n",
      "Epoch: 66, Loss: 1.18299989323867\n",
      "Epoch: 67, Loss: 1.178941155734815\n",
      "Epoch: 68, Loss: 1.1749278055994135\n",
      "Epoch: 69, Loss: 1.1709495908335636\n",
      "Epoch: 70, Loss: 1.1670156842783879\n",
      "Epoch: 71, Loss: 1.1631081417987221\n",
      "Epoch: 72, Loss: 1.1592580080032349\n",
      "Epoch: 73, Loss: 1.155444389895389\n",
      "Epoch: 74, Loss: 1.1516749231438888\n",
      "Epoch: 75, Loss: 1.1479446072327464\n",
      "Epoch: 76, Loss: 1.144246358620493\n",
      "Epoch: 77, Loss: 1.1405906677246094\n",
      "Epoch: 78, Loss: 1.1369715301614058\n",
      "Epoch: 79, Loss: 1.1333851124110974\n",
      "Epoch: 80, Loss: 1.1298297894628424\n",
      "Epoch: 81, Loss: 1.1262954473495483\n",
      "Epoch: 82, Loss: 1.1227842443867733\n",
      "Epoch: 83, Loss: 1.1192881747295982\n",
      "Epoch: 84, Loss: 1.1158174244981063\n",
      "Epoch: 85, Loss: 1.1123691765885604\n",
      "Epoch: 86, Loss: 1.108944993270071\n",
      "Epoch: 87, Loss: 1.1055196084474261\n",
      "Epoch: 88, Loss: 1.1020991802215576\n",
      "Epoch: 89, Loss: 1.0987044478717602\n",
      "Epoch: 90, Loss: 1.095333297001688\n",
      "Epoch: 91, Loss: 1.0919943640106602\n",
      "Epoch: 92, Loss: 1.0886877743821395\n",
      "Epoch: 93, Loss: 1.0853720432833622\n",
      "Epoch: 94, Loss: 1.0820640325546265\n",
      "Epoch: 95, Loss: 1.078782138071562\n",
      "Epoch: 96, Loss: 1.0755373898305391\n",
      "Epoch: 97, Loss: 1.0723040668587935\n",
      "Epoch: 98, Loss: 1.069086984584206\n",
      "Epoch: 99, Loss: 1.0658907827578092\n",
      "Epoch: 100, Loss: 1.062700983725096\n",
      "Epoch: 101, Loss: 1.059539092214484\n",
      "Epoch: 102, Loss: 1.0563999979119552\n",
      "Epoch: 103, Loss: 1.0532844317586798\n",
      "Epoch: 104, Loss: 1.0502024606654519\n",
      "Epoch: 105, Loss: 1.0471459533038892\n",
      "Epoch: 106, Loss: 1.044142694849717\n",
      "Epoch: 107, Loss: 1.041169655950446\n",
      "Epoch: 108, Loss: 1.0382421863706488\n",
      "Epoch: 109, Loss: 1.0353458837458962\n",
      "Epoch: 110, Loss: 1.0324823730870296\n",
      "Epoch: 111, Loss: 1.0296622295128672\n",
      "Epoch: 112, Loss: 1.0268745987038863\n",
      "Epoch: 113, Loss: 1.024123982379311\n",
      "Epoch: 114, Loss: 1.0214223579356545\n",
      "Epoch: 115, Loss: 1.0187576005333348\n",
      "Epoch: 116, Loss: 1.0161196934549432\n",
      "Epoch: 117, Loss: 1.0135260098858883\n",
      "Epoch: 118, Loss: 1.0109632172082599\n",
      "Epoch: 119, Loss: 1.0084235291731984\n",
      "Epoch: 120, Loss: 1.0059254734139693\n",
      "Epoch: 121, Loss: 1.0034719517356472\n",
      "Epoch: 122, Loss: 1.001039401481026\n",
      "Epoch: 123, Loss: 0.9986431535921598\n",
      "Epoch: 124, Loss: 0.9962864925986842\n",
      "Epoch: 125, Loss: 0.9939597092176738\n",
      "Epoch: 126, Loss: 0.9916647233461079\n",
      "Epoch: 127, Loss: 0.9893948247558192\n",
      "Epoch: 128, Loss: 0.9871696672941509\n",
      "Epoch: 129, Loss: 0.9849758587385479\n",
      "Epoch: 130, Loss: 0.9828076080272072\n",
      "Epoch: 131, Loss: 0.980678423454887\n",
      "Epoch: 132, Loss: 0.9785639329960472\n",
      "Epoch: 133, Loss: 0.9764935813452068\n",
      "Epoch: 134, Loss: 0.9744484832412318\n",
      "Epoch: 135, Loss: 0.9724378052510714\n",
      "Epoch: 136, Loss: 0.970463542561782\n",
      "Epoch: 137, Loss: 0.968518034407967\n",
      "Epoch: 138, Loss: 0.9665907495900204\n",
      "Epoch: 139, Loss: 0.9646893582845989\n",
      "Epoch: 140, Loss: 0.9628254018331829\n",
      "Epoch: 141, Loss: 0.9609876400546024\n",
      "Epoch: 142, Loss: 0.9591756933613828\n",
      "Epoch: 143, Loss: 0.9574065522143715\n",
      "Epoch: 144, Loss: 0.9556489775055333\n",
      "Epoch: 145, Loss: 0.9539140776584023\n",
      "Epoch: 146, Loss: 0.95221220505865\n",
      "Epoch: 147, Loss: 0.9505245120901811\n",
      "Epoch: 148, Loss: 0.948860620197497\n",
      "Epoch: 149, Loss: 0.947226816102078\n",
      "Epoch: 150, Loss: 0.9456201070233395\n",
      "Epoch: 151, Loss: 0.9440484580240751\n",
      "Epoch: 152, Loss: 0.9424923783854434\n",
      "Epoch: 153, Loss: 0.940968111941689\n",
      "Epoch: 154, Loss: 0.9394667493669611\n",
      "Epoch: 155, Loss: 0.9379906905324835\n",
      "Epoch: 156, Loss: 0.936540446783367\n",
      "Epoch: 157, Loss: 0.9351077079772949\n",
      "Epoch: 158, Loss: 0.933688948028966\n",
      "Epoch: 159, Loss: 0.9322932080218667\n",
      "Epoch: 160, Loss: 0.9309272546517221\n",
      "Epoch: 161, Loss: 0.9295718230699238\n",
      "Epoch: 162, Loss: 0.9282661299956473\n",
      "Epoch: 163, Loss: 0.9269446228679857\n",
      "Epoch: 164, Loss: 0.9256557320293627\n",
      "Epoch: 165, Loss: 0.9243956835646379\n",
      "Epoch: 166, Loss: 0.9231431201884621\n",
      "Epoch: 167, Loss: 0.9219025373458862\n",
      "Epoch: 168, Loss: 0.9207005783131248\n",
      "Epoch: 169, Loss: 0.9195044479872051\n",
      "Epoch: 170, Loss: 0.9183236078212136\n",
      "Epoch: 171, Loss: 0.917159660866386\n",
      "Epoch: 172, Loss: 0.9160160547808597\n",
      "Epoch: 173, Loss: 0.9148913684644198\n",
      "Epoch: 174, Loss: 0.9137722065574244\n",
      "Epoch: 175, Loss: 0.9126719487340826\n",
      "Epoch: 176, Loss: 0.9115990180718271\n",
      "Epoch: 177, Loss: 0.9105137680706225\n",
      "Epoch: 178, Loss: 0.9094482534810117\n",
      "Epoch: 179, Loss: 0.9083970785140991\n",
      "Epoch: 180, Loss: 0.9073740714474728\n",
      "Epoch: 181, Loss: 0.906356554282339\n",
      "Epoch: 182, Loss: 0.9053705522888585\n",
      "Epoch: 183, Loss: 0.9044152466874373\n",
      "Epoch: 184, Loss: 0.9034766335236398\n",
      "Epoch: 185, Loss: 0.902557655384666\n",
      "Epoch: 186, Loss: 0.9016488257207369\n",
      "Epoch: 187, Loss: 0.9007698172017148\n",
      "Epoch: 188, Loss: 0.8998977698777851\n",
      "Epoch: 189, Loss: 0.8990277742084704\n",
      "Epoch: 190, Loss: 0.8981719362108331\n",
      "Epoch: 191, Loss: 0.8973215943888614\n",
      "Epoch: 192, Loss: 0.8965053087786624\n",
      "Epoch: 193, Loss: 0.8956781688489412\n",
      "Epoch: 194, Loss: 0.8948735218299063\n",
      "Epoch: 195, Loss: 0.8940796601144891\n",
      "Epoch: 196, Loss: 0.8932904789322301\n",
      "Epoch: 197, Loss: 0.8925199759633917\n",
      "Epoch: 198, Loss: 0.8917411001105058\n",
      "Epoch: 199, Loss: 0.8909775928447121\n",
      "Epoch: 200, Loss: 0.8902123695925662\n",
      "Epoch: 201, Loss: 0.8894753079665335\n",
      "Epoch: 202, Loss: 0.8887378871440887\n",
      "Epoch: 203, Loss: 0.8880286452017332\n",
      "Epoch: 204, Loss: 0.8873285290442015\n",
      "Epoch: 205, Loss: 0.8866283893585205\n",
      "Epoch: 206, Loss: 0.8859580817975496\n",
      "Epoch: 207, Loss: 0.8853038800390143\n",
      "Epoch: 208, Loss: 0.8846459749497866\n",
      "Epoch: 209, Loss: 0.8840073660800332\n",
      "Epoch: 210, Loss: 0.8833783959087572\n",
      "Epoch: 211, Loss: 0.8827562959570634\n",
      "Epoch: 212, Loss: 0.8821498767325753\n",
      "Epoch: 213, Loss: 0.8815447076370841\n",
      "Epoch: 214, Loss: 0.8809475726202914\n",
      "Epoch: 215, Loss: 0.880351334810257\n",
      "Epoch: 216, Loss: 0.8797622715172014\n",
      "Epoch: 217, Loss: 0.8791889830639488\n",
      "Epoch: 218, Loss: 0.8786306836103138\n",
      "Epoch: 219, Loss: 0.8780898404748816\n",
      "Epoch: 220, Loss: 0.8775545860591688\n",
      "Epoch: 221, Loss: 0.8770315960833901\n",
      "Epoch: 222, Loss: 0.8765118373067755\n",
      "Epoch: 223, Loss: 0.8760119002116354\n",
      "Epoch: 224, Loss: 0.8754945130724656\n",
      "Epoch: 225, Loss: 0.8749975483668478\n",
      "Epoch: 226, Loss: 0.8745089957588598\n",
      "Epoch: 227, Loss: 0.8740142207396658\n",
      "Epoch: 228, Loss: 0.8735435793274328\n",
      "Epoch: 229, Loss: 0.8730681522896415\n",
      "Epoch: 230, Loss: 0.8726022306241488\n",
      "Epoch: 231, Loss: 0.8721416655339693\n",
      "Epoch: 232, Loss: 0.8716874373586554\n",
      "Epoch: 233, Loss: 0.8712465637608579\n",
      "Epoch: 234, Loss: 0.8708050831368095\n",
      "Epoch: 235, Loss: 0.8703737917699312\n",
      "Epoch: 236, Loss: 0.8699359313437813\n",
      "Epoch: 237, Loss: 0.8695103526115417\n",
      "Epoch: 238, Loss: 0.8690888818941618\n",
      "Epoch: 239, Loss: 0.8686792066222743\n",
      "Epoch: 240, Loss: 0.868266141728351\n",
      "Epoch: 241, Loss: 0.8678556963017112\n",
      "Epoch: 242, Loss: 0.8674570651430833\n",
      "Epoch: 243, Loss: 0.8670428928576017\n",
      "Epoch: 244, Loss: 0.866641104221344\n",
      "Epoch: 245, Loss: 0.8662531673908234\n",
      "Epoch: 246, Loss: 0.8658474668076164\n",
      "Epoch: 247, Loss: 0.8654741299779791\n",
      "Epoch: 248, Loss: 0.8650832740884078\n",
      "Epoch: 249, Loss: 0.8647026451010453\n",
      "Epoch: 250, Loss: 0.8643355510736767\n",
      "Epoch: 251, Loss: 0.8639585375785828\n",
      "Epoch: 252, Loss: 0.8635861904997575\n",
      "Epoch: 253, Loss: 0.8632284998893738\n",
      "Epoch: 254, Loss: 0.8628627752002916\n",
      "Epoch: 255, Loss: 0.8625126088920393\n",
      "Epoch: 256, Loss: 0.8621544696782765\n",
      "Epoch: 257, Loss: 0.8618219526190507\n",
      "Epoch: 258, Loss: 0.8614660658334431\n",
      "Epoch: 259, Loss: 0.8611386230117396\n",
      "Epoch: 260, Loss: 0.8607935811343946\n",
      "Epoch: 261, Loss: 0.8604609809423748\n",
      "Epoch: 262, Loss: 0.8601402640342712\n",
      "Epoch: 263, Loss: 0.859816490035308\n",
      "Epoch: 264, Loss: 0.859495853122912\n",
      "Epoch: 265, Loss: 0.859170066682916\n",
      "Epoch: 266, Loss: 0.8588487066720661\n",
      "Epoch: 267, Loss: 0.8585236856811925\n",
      "Epoch: 268, Loss: 0.8582179797323126\n",
      "Epoch: 269, Loss: 0.8579042193136717\n",
      "Epoch: 270, Loss: 0.8575962436826605\n",
      "Epoch: 271, Loss: 0.8572897565992255\n",
      "Epoch: 272, Loss: 0.8569934211279217\n",
      "Epoch: 273, Loss: 0.8566823868375075\n",
      "Epoch: 274, Loss: 0.8563764409015053\n",
      "Epoch: 275, Loss: 0.8560942568277058\n",
      "Epoch: 276, Loss: 0.8557905241062767\n",
      "Epoch: 277, Loss: 0.8555097297618264\n",
      "Epoch: 278, Loss: 0.8552238439258776\n",
      "Epoch: 279, Loss: 0.854935032756705\n",
      "Epoch: 280, Loss: 0.8546530808273115\n",
      "Epoch: 281, Loss: 0.8543674851718702\n",
      "Epoch: 282, Loss: 0.8540920254431272\n",
      "Epoch: 283, Loss: 0.8538160261354948\n",
      "Epoch: 284, Loss: 0.8535452688995161\n",
      "Epoch: 285, Loss: 0.8532750073232149\n",
      "Epoch: 286, Loss: 0.8529925346374512\n",
      "Epoch: 287, Loss: 0.8527247372426485\n",
      "Epoch: 288, Loss: 0.8524622148589084\n",
      "Epoch: 289, Loss: 0.8521867425818193\n",
      "Epoch: 290, Loss: 0.8519302214446821\n",
      "Epoch: 291, Loss: 0.8516647894131509\n",
      "Epoch: 292, Loss: 0.851405016685787\n",
      "Epoch: 293, Loss: 0.8511486916165603\n",
      "Epoch: 294, Loss: 0.8508889847680142\n",
      "Epoch: 295, Loss: 0.8506322142324949\n",
      "Epoch: 296, Loss: 0.8503774530009219\n",
      "Epoch: 297, Loss: 0.8501267417481071\n",
      "Epoch: 298, Loss: 0.8498763347926893\n",
      "Epoch: 299, Loss: 0.8496221727446506\n",
      "Epoch: 300, Loss: 0.8493763333872745\n",
      "Epoch: 301, Loss: 0.849130580299779\n",
      "Epoch: 302, Loss: 0.848888845820176\n",
      "Epoch: 303, Loss: 0.8486480289383939\n",
      "Epoch: 304, Loss: 0.8484054348970714\n",
      "Epoch: 305, Loss: 0.8481659591197968\n",
      "Epoch: 306, Loss: 0.8479262433553997\n",
      "Epoch: 307, Loss: 0.8476888160956534\n",
      "Epoch: 308, Loss: 0.847442561074307\n",
      "Epoch: 309, Loss: 0.8472168445587158\n",
      "Epoch: 310, Loss: 0.8469848821037694\n",
      "Epoch: 311, Loss: 0.8467370459907934\n",
      "Epoch: 312, Loss: 0.8464957773685455\n",
      "Epoch: 313, Loss: 0.8462610448661604\n",
      "Epoch: 314, Loss: 0.8460242748260498\n",
      "Epoch: 315, Loss: 0.8458005001670436\n",
      "Epoch: 316, Loss: 0.8455645598863301\n",
      "Epoch: 317, Loss: 0.8453289364513598\n",
      "Epoch: 318, Loss: 0.8451062848693446\n",
      "Epoch: 319, Loss: 0.8448674035699744\n",
      "Epoch: 320, Loss: 0.8446433246135712\n",
      "Epoch: 321, Loss: 0.844413758892762\n",
      "Epoch: 322, Loss: 0.844152503891995\n",
      "Epoch: 323, Loss: 0.8439059775126608\n",
      "Epoch: 324, Loss: 0.8436625035185563\n",
      "Epoch: 325, Loss: 0.8434199941785712\n",
      "Epoch: 326, Loss: 0.8431660015332071\n",
      "Epoch: 327, Loss: 0.8429186218663266\n",
      "Epoch: 328, Loss: 0.8426610592164492\n",
      "Epoch: 329, Loss: 0.8424153955359208\n",
      "Epoch: 330, Loss: 0.8421700455640492\n",
      "Epoch: 331, Loss: 0.8419445172736519\n",
      "Epoch: 332, Loss: 0.8416853374556491\n",
      "Epoch: 333, Loss: 0.8414396878920103\n",
      "Epoch: 334, Loss: 0.8411805300336135\n",
      "Epoch: 335, Loss: 0.8409516074155506\n",
      "Epoch: 336, Loss: 0.8407051139756253\n",
      "Epoch: 337, Loss: 0.8404582017346433\n",
      "Epoch: 338, Loss: 0.8402120376888075\n",
      "Epoch: 339, Loss: 0.8399571478366852\n",
      "Epoch: 340, Loss: 0.8397054107565629\n",
      "Epoch: 341, Loss: 0.8394673654907628\n",
      "Epoch: 342, Loss: 0.8392365449353268\n",
      "Epoch: 343, Loss: 0.8390012257977536\n",
      "Epoch: 344, Loss: 0.8387867322093562\n",
      "Epoch: 345, Loss: 0.8385556167677829\n",
      "Epoch: 346, Loss: 0.838334183943899\n",
      "Epoch: 347, Loss: 0.8381068643770719\n",
      "Epoch: 348, Loss: 0.8378824136759105\n",
      "Epoch: 349, Loss: 0.8376502598586836\n",
      "Epoch: 350, Loss: 0.837419403226752\n",
      "Epoch: 351, Loss: 0.8372020344985159\n",
      "Epoch: 352, Loss: 0.8369676768779755\n",
      "Epoch: 353, Loss: 0.8367506955799303\n",
      "Epoch: 354, Loss: 0.8365278196962256\n",
      "Epoch: 355, Loss: 0.8363131708220432\n",
      "Epoch: 356, Loss: 0.8360915011481235\n",
      "Epoch: 357, Loss: 0.8358823923688186\n",
      "Epoch: 358, Loss: 0.8356638833096153\n",
      "Epoch: 359, Loss: 0.835457350078382\n",
      "Epoch: 360, Loss: 0.8352538206075367\n",
      "Epoch: 361, Loss: 0.8350403277497542\n",
      "Epoch: 362, Loss: 0.8348339043165508\n",
      "Epoch: 363, Loss: 0.8346327919709055\n",
      "Epoch: 364, Loss: 0.8344300593200483\n",
      "Epoch: 365, Loss: 0.8342411847491014\n",
      "Epoch: 366, Loss: 0.8340398292792471\n",
      "Epoch: 367, Loss: 0.8338376989490107\n",
      "Epoch: 368, Loss: 0.8336399840681177\n",
      "Epoch: 369, Loss: 0.833428492671565\n",
      "Epoch: 370, Loss: 0.8332330333559137\n",
      "Epoch: 371, Loss: 0.8330410452265489\n",
      "Epoch: 372, Loss: 0.8328358813336021\n",
      "Epoch: 373, Loss: 0.832640119289097\n",
      "Epoch: 374, Loss: 0.8324461391097621\n",
      "Epoch: 375, Loss: 0.8322510562444988\n",
      "Epoch: 376, Loss: 0.8320726062122145\n",
      "Epoch: 377, Loss: 0.8318776064797452\n",
      "Epoch: 378, Loss: 0.8316796327892103\n",
      "Epoch: 379, Loss: 0.8314854173283828\n",
      "Epoch: 380, Loss: 0.8312842375353763\n",
      "Epoch: 381, Loss: 0.8310975651991995\n",
      "Epoch: 382, Loss: 0.83089626933399\n",
      "Epoch: 383, Loss: 0.8307093585792341\n",
      "Epoch: 384, Loss: 0.8305198707078633\n",
      "Epoch: 385, Loss: 0.8303263234464746\n",
      "Epoch: 386, Loss: 0.8301316499710083\n",
      "Epoch: 387, Loss: 0.8299454905484852\n",
      "Epoch: 388, Loss: 0.8297432237549832\n",
      "Epoch: 389, Loss: 0.8295440720884424\n",
      "Epoch: 390, Loss: 0.829345460000791\n",
      "Epoch: 391, Loss: 0.829131145226328\n",
      "Epoch: 392, Loss: 0.828922091346038\n",
      "Epoch: 393, Loss: 0.8287177242730793\n",
      "Epoch: 394, Loss: 0.8285162072432669\n",
      "Epoch: 395, Loss: 0.8283129993237948\n",
      "Epoch: 396, Loss: 0.8281044928651107\n",
      "Epoch: 397, Loss: 0.827922240683907\n",
      "Epoch: 398, Loss: 0.8277108700651872\n",
      "Epoch: 399, Loss: 0.8275147033365149\n",
      "Epoch: 400, Loss: 0.8273010222535384\n",
      "Epoch: 401, Loss: 0.8271083329853258\n",
      "Epoch: 402, Loss: 0.8269069775154716\n",
      "Epoch: 403, Loss: 0.8267163697041964\n",
      "Epoch: 404, Loss: 0.82652148604393\n",
      "Epoch: 405, Loss: 0.8263336435744637\n",
      "Epoch: 406, Loss: 0.8261400696478391\n",
      "Epoch: 407, Loss: 0.8259360162835372\n",
      "Epoch: 408, Loss: 0.8257571772525185\n",
      "Epoch: 409, Loss: 0.8255637429262462\n",
      "Epoch: 410, Loss: 0.8253849650684156\n",
      "Epoch: 411, Loss: 0.8251979586325193\n",
      "Epoch: 412, Loss: 0.8250009072454352\n",
      "Epoch: 413, Loss: 0.8248228932681837\n",
      "Epoch: 414, Loss: 0.824631846264789\n",
      "Epoch: 415, Loss: 0.824447689872039\n",
      "Epoch: 416, Loss: 0.8242667835009726\n",
      "Epoch: 417, Loss: 0.8240799888184196\n",
      "Epoch: 418, Loss: 0.8238935423524756\n",
      "Epoch: 419, Loss: 0.8237157040520718\n",
      "Epoch: 420, Loss: 0.8235301281276503\n",
      "Epoch: 421, Loss: 0.8233460344766316\n",
      "Epoch: 422, Loss: 0.8231620098415174\n",
      "Epoch: 423, Loss: 0.822976678609848\n",
      "Epoch: 424, Loss: 0.822801505264483\n",
      "Epoch: 425, Loss: 0.8226227227010225\n",
      "Epoch: 426, Loss: 0.8224289213356218\n",
      "Epoch: 427, Loss: 0.822241474139063\n",
      "Epoch: 428, Loss: 0.8220625347212741\n",
      "Epoch: 429, Loss: 0.8218779956039629\n",
      "Epoch: 430, Loss: 0.8216900041228846\n",
      "Epoch: 431, Loss: 0.8215133045849047\n",
      "Epoch: 432, Loss: 0.8213235218273965\n",
      "Epoch: 433, Loss: 0.8211513757705688\n",
      "Epoch: 434, Loss: 0.8209738182394128\n",
      "Epoch: 435, Loss: 0.8207875098052778\n",
      "Epoch: 436, Loss: 0.8206168695500022\n",
      "Epoch: 437, Loss: 0.8204272938402075\n",
      "Epoch: 438, Loss: 0.8202491308513441\n",
      "Epoch: 439, Loss: 0.820073946526176\n",
      "Epoch: 440, Loss: 0.8198841371034321\n",
      "Epoch: 441, Loss: 0.8197052729757208\n",
      "Epoch: 442, Loss: 0.8195213816667858\n",
      "Epoch: 443, Loss: 0.8193395137786865\n",
      "Epoch: 444, Loss: 0.8191525261653098\n",
      "Epoch: 445, Loss: 0.8189794530994013\n",
      "Epoch: 446, Loss: 0.8188034986194811\n",
      "Epoch: 447, Loss: 0.8186123449551431\n",
      "Epoch: 448, Loss: 0.8184067104992113\n",
      "Epoch: 449, Loss: 0.8182075760866466\n",
      "Epoch: 450, Loss: 0.8180193540297056\n",
      "Epoch: 451, Loss: 0.8178275603997079\n",
      "Epoch: 452, Loss: 0.8176386905343909\n",
      "Epoch: 453, Loss: 0.8174584680481961\n",
      "Epoch: 454, Loss: 0.8172566969143716\n",
      "Epoch: 455, Loss: 0.8170751348922127\n",
      "Epoch: 456, Loss: 0.8168856454522986\n",
      "Epoch: 457, Loss: 0.8167003973534233\n",
      "Epoch: 458, Loss: 0.8165144559584165\n",
      "Epoch: 459, Loss: 0.8163329786375949\n",
      "Epoch: 460, Loss: 0.8161582131134836\n",
      "Epoch: 461, Loss: 0.8159735892948351\n",
      "Epoch: 462, Loss: 0.8157841390685031\n",
      "Epoch: 463, Loss: 0.8156037330627441\n",
      "Epoch: 464, Loss: 0.8154127958573794\n",
      "Epoch: 465, Loss: 0.8152277093184622\n",
      "Epoch: 466, Loss: 0.8150422729943928\n",
      "Epoch: 467, Loss: 0.8148660848015233\n",
      "Epoch: 468, Loss: 0.8146798485203793\n",
      "Epoch: 469, Loss: 0.8144986943194741\n",
      "Epoch: 470, Loss: 0.8143246597365329\n",
      "Epoch: 471, Loss: 0.8141352957800815\n",
      "Epoch: 472, Loss: 0.813958161755612\n",
      "Epoch: 473, Loss: 0.8137780067167784\n",
      "Epoch: 474, Loss: 0.8136048928687447\n",
      "Epoch: 475, Loss: 0.8134080281383113\n",
      "Epoch: 476, Loss: 0.8132166140957883\n",
      "Epoch: 477, Loss: 0.8130354097014979\n",
      "Epoch: 478, Loss: 0.8128399660712794\n",
      "Epoch: 479, Loss: 0.812663313589598\n",
      "Epoch: 480, Loss: 0.8124860964323345\n",
      "Epoch: 481, Loss: 0.8122887360422235\n",
      "Epoch: 482, Loss: 0.8121120082704645\n",
      "Epoch: 483, Loss: 0.811942530305762\n",
      "Epoch: 484, Loss: 0.8117550470327076\n",
      "Epoch: 485, Loss: 0.8115751084528471\n",
      "Epoch: 486, Loss: 0.8113993657262701\n",
      "Epoch: 487, Loss: 0.8112124518344277\n",
      "Epoch: 488, Loss: 0.8110342041442269\n",
      "Epoch: 489, Loss: 0.8108555486327723\n",
      "Epoch: 490, Loss: 0.8106772507491865\n",
      "Epoch: 491, Loss: 0.8104879479659232\n",
      "Epoch: 492, Loss: 0.8103104029831133\n",
      "Epoch: 493, Loss: 0.8101364578071394\n",
      "Epoch: 494, Loss: 0.809956254143464\n",
      "Epoch: 495, Loss: 0.809776706130881\n",
      "Epoch: 496, Loss: 0.8096161531774622\n",
      "Epoch: 497, Loss: 0.8094575044355894\n",
      "Epoch: 498, Loss: 0.8092672903286783\n",
      "Epoch: 499, Loss: 0.8090851651994806\n",
      "Epoch: 500, Loss: 0.8089140920262587\n"
     ]
    }
   ],
   "source": [
    "epochs = 500\n",
    "for e in range(0, epochs):\n",
    "    model.train()\n",
    "    current_loss = 0\n",
    "    for i, (X, y) in enumerate(train_dataloader):\n",
    "        optimizer.zero_grad()\n",
    "        \n",
    "        # To GPU\n",
    "        X = X.to(device)\n",
    "        y = y.to(device).double()\n",
    "        output = model(X).double()\n",
    "        loss = loss_function(output, y)\n",
    "        loss = loss.type(torch.cuda.FloatTensor)\n",
    "        loss.backward()\n",
    "        optimizer.step()\n",
    "        current_loss += loss.item()\n",
    "        torch.cuda.empty_cache()\n",
    "    print(f'Epoch: {e+1}, Loss: {current_loss/len(train_dataloader)}')"
   ]
  },
  {
   "cell_type": "code",
   "execution_count": 0,
   "metadata": {
    "colab": {},
    "colab_type": "code",
    "id": "Y6SWrtvI_-Rv"
   },
   "outputs": [],
   "source": [
    "test_outputs = []\n",
    "for i, (X, y) in enumerate(test_dataloader):\n",
    "    optimizer.zero_grad()\n",
    "    X = X.to(device)\n",
    "    output = model(X)   \n",
    "    test_outputs.append(output.cpu().detach().numpy())"
   ]
  },
  {
   "cell_type": "code",
   "execution_count": 0,
   "metadata": {
    "colab": {},
    "colab_type": "code",
    "id": "ZJkxyJMIAHbJ"
   },
   "outputs": [],
   "source": [
    "test_outputs_converted = []\n",
    "for i in range(len(test_outputs)):\n",
    "    current = test_outputs[i][0]\n",
    "    add = [1 if x >= 0.50 else 0 for x in current]\n",
    "    test_outputs_converted.append(add)\n",
    "test_outputs_converted = np.array(test_outputs_converted)"
   ]
  },
  {
   "cell_type": "code",
   "execution_count": 0,
   "metadata": {
    "colab": {
     "base_uri": "https://localhost:8080/",
     "height": 34
    },
    "colab_type": "code",
    "id": "1SKd8iZbAItN",
    "outputId": "4a0793a8-68a6-47e3-a9d0-a4fb5d6f0122"
   },
   "outputs": [
    {
     "name": "stdout",
     "output_type": "stream",
     "text": [
      "Testing Accuracy: 0.7272727272727273\n"
     ]
    }
   ],
   "source": [
    "accuracy = 0\n",
    "missed = []\n",
    "for i in range(len(test_outputs_converted)):\n",
    "    if collections.Counter(test_outputs_converted[i]) == collections.Counter(converted_test[i]):\n",
    "        accuracy += 1\n",
    "    else:\n",
    "        missed.append(i)\n",
    "print(f'Testing Accuracy: {accuracy/33}')"
   ]
  },
  {
   "cell_type": "markdown",
   "metadata": {
    "colab_type": "text",
    "id": "Rw0fU_g-4cQ1"
   },
   "source": [
    "# Factor Analysis"
   ]
  },
  {
   "cell_type": "code",
   "execution_count": 8,
   "metadata": {
    "colab": {},
    "colab_type": "code",
    "id": "X3_PEnCY5Qze"
   },
   "outputs": [],
   "source": [
    "from sklearn.decomposition import FactorAnalysis"
   ]
  },
  {
   "cell_type": "code",
   "execution_count": 9,
   "metadata": {
    "colab": {},
    "colab_type": "code",
    "id": "fGfYgxbN5iR6"
   },
   "outputs": [],
   "source": [
    "factors = FactorAnalysis(n_components = 100, copy = True, random_state = 15)\n",
    "fa_train_genes = factors.fit_transform(train_data)\n",
    "fa_test_genes = factors.transform(test_data)"
   ]
  },
  {
   "cell_type": "code",
   "execution_count": 10,
   "metadata": {
    "colab": {},
    "colab_type": "code",
    "id": "9wI8ar7o5oEk"
   },
   "outputs": [],
   "source": [
    "all_weights = pd.DataFrame(factors.components_)\n",
    "col_names = train_data.columns.values\n",
    "all_weights.columns = col_names"
   ]
  },
  {
   "cell_type": "code",
   "execution_count": 11,
   "metadata": {
    "colab": {},
    "colab_type": "code",
    "id": "nbKCCJ8x5ttV"
   },
   "outputs": [],
   "source": [
    "fa_important_genes = []\n",
    "temp = pd.DataFrame(np.abs(all_weights)).T\n",
    "for i in range(50):\n",
    "    fa_important_genes.extend(temp.nlargest(100, i).index.values)\n",
    "fa_important_genes = np.unique(fa_important_genes)\n",
    "fa_important_train = train_data[fa_important_genes]\n",
    "fa_important_test = test_data[fa_important_genes]"
   ]
  },
  {
   "cell_type": "markdown",
   "metadata": {},
   "source": [
    "# Ordinal Regression using FA"
   ]
  },
  {
   "cell_type": "code",
   "execution_count": 0,
   "metadata": {
    "colab": {
     "base_uri": "https://localhost:8080/",
     "height": 34
    },
    "colab_type": "code",
    "id": "voHtXJC95zCm",
    "outputId": "21c408c2-1f44-426e-bec0-da5628164486"
   },
   "outputs": [
    {
     "data": {
      "text/plain": [
       "0.6854022988505747"
      ]
     },
     "execution_count": 169,
     "metadata": {
      "tags": []
     },
     "output_type": "execute_result"
    }
   ],
   "source": [
    "c = m.LogisticIT()\n",
    "cv_strategy = StratifiedKFold(n_splits=10, random_state=0, shuffle=True)\n",
    "param_grid = {'alpha': np.logspace(-3,3,7)}\n",
    "ridge_grid_fa = GridSearchCV(c, param_grid, cv=cv_strategy, n_jobs=-1, return_train_score=True)\n",
    "ridge_grid_fa.fit(np.array(fa_important_train), np.array(mapped_labels_train))\n",
    "ridge_grid_fa.best_score_"
   ]
  },
  {
   "cell_type": "code",
   "execution_count": 0,
   "metadata": {
    "colab": {
     "base_uri": "https://localhost:8080/",
     "height": 34
    },
    "colab_type": "code",
    "id": "_IsUt_1X7kBG",
    "outputId": "67af82ac-7074-45ab-fef7-8b567d186269"
   },
   "outputs": [
    {
     "data": {
      "text/plain": [
       "0.7272727272727273"
      ]
     },
     "execution_count": 40,
     "metadata": {
      "tags": []
     },
     "output_type": "execute_result"
    }
   ],
   "source": [
    "ridge_grid_fa.score(np.array(fa_important_test), np.array(mapped_labels_test))"
   ]
  },
  {
   "cell_type": "markdown",
   "metadata": {},
   "source": [
    "# Kernel SVM using FA"
   ]
  },
  {
   "cell_type": "code",
   "execution_count": 12,
   "metadata": {},
   "outputs": [
    {
     "data": {
      "text/plain": [
       "0.685287356321839"
      ]
     },
     "execution_count": 12,
     "metadata": {},
     "output_type": "execute_result"
    }
   ],
   "source": [
    "cv_strategy = StratifiedKFold(n_splits=10, random_state=0, shuffle=True)\n",
    "parameters = {'kernel':('linear', 'rbf', 'poly'), 'C': np.logspace(-3, 3, 7), 'gamma': ('auto', 'scale')}\n",
    "svc_grid = GridSearchCV(SVC(), parameters, cv=cv_strategy, n_jobs=-1, return_train_score=True)\n",
    "svc_grid.fit(np.array(fa_important_train), np.array(mapped_labels_train))\n",
    "svc_grid.best_score_"
   ]
  },
  {
   "cell_type": "code",
   "execution_count": 13,
   "metadata": {},
   "outputs": [
    {
     "data": {
      "text/plain": [
       "0.696969696969697"
      ]
     },
     "execution_count": 13,
     "metadata": {},
     "output_type": "execute_result"
    }
   ],
   "source": [
    "svc_grid.score(np.array(fa_important_test), np.array(mapped_labels_test))"
   ]
  },
  {
   "cell_type": "markdown",
   "metadata": {
    "colab_type": "text",
    "id": "Itrbg5rDAzqa"
   },
   "source": [
    "# Retrain Neural Network using FA"
   ]
  },
  {
   "cell_type": "code",
   "execution_count": 0,
   "metadata": {
    "colab": {},
    "colab_type": "code",
    "id": "FOme6nmaA3pC"
   },
   "outputs": [],
   "source": [
    "train_tensor = torch.tensor(fa_important_train.values.astype(np.float32)) \n",
    "test_tensor = torch.tensor(fa_important_test.values.astype(np.float32))\n",
    "batch_size = 16\n",
    "# Define datasets and dataloaders\n",
    "testing_dataset = TensorDataset(test_tensor, test_target_tensor)\n",
    "training_dataset = TensorDataset(train_tensor, train_target_tensor)\n",
    "test_dataloader = DataLoader(testing_dataset, batch_size = 1)\n",
    "train_dataloader = DataLoader(training_dataset, batch_size = batch_size )"
   ]
  },
  {
   "cell_type": "code",
   "execution_count": 0,
   "metadata": {
    "colab": {},
    "colab_type": "code",
    "id": "Pj3Mh_3dBCcY"
   },
   "outputs": [],
   "source": [
    "class rnn_model(torch.nn.Module):\n",
    "    def __init__(self):\n",
    "        super(rnn_model, self).__init__()\n",
    "        self.layers = torch.nn.Sequential(\n",
    "            torch.nn.Linear(len(fa_important_train.columns), 32),\n",
    "            torch.nn.ReLU(),\n",
    "            torch.nn.Linear(32, 64),\n",
    "            torch.nn.ReLU(),\n",
    "            torch.nn.Linear(64, 3),\n",
    "            # Sigmoid funtion on each of the output nodes\n",
    "            torch.nn.Sigmoid()\n",
    "        )\n",
    "\n",
    "    # The last layer hidden states from BERT are used as embeddings/semantic \n",
    "    # representation for the input and therefore, passed into the MLP\n",
    "    def forward(self, x):\n",
    "        out = self.layers(x)\n",
    "        return out"
   ]
  },
  {
   "cell_type": "code",
   "execution_count": 0,
   "metadata": {
    "colab": {},
    "colab_type": "code",
    "id": "OCrqFJZABIZN"
   },
   "outputs": [],
   "source": [
    "# Compile and train model\n",
    "model = rnn_model()\n",
    "model.cuda()\n",
    "optimizer = torch.optim.Adam(model.parameters(), lr = 1e-5, eps = 1e-8)"
   ]
  },
  {
   "cell_type": "code",
   "execution_count": 0,
   "metadata": {
    "colab": {
     "base_uri": "https://localhost:8080/",
     "height": 1000
    },
    "colab_type": "code",
    "id": "qmy_tgttBL6h",
    "outputId": "4585c696-475b-414d-c37a-f1981502c596"
   },
   "outputs": [
    {
     "name": "stdout",
     "output_type": "stream",
     "text": [
      "Epoch: 1, Loss: 2.125166052266171\n",
      "Epoch: 2, Loss: 2.007887695965014\n",
      "Epoch: 3, Loss: 1.9084436830721403\n",
      "Epoch: 4, Loss: 1.814291194865578\n",
      "Epoch: 5, Loss: 1.7224170659717761\n",
      "Epoch: 6, Loss: 1.6308397682089555\n",
      "Epoch: 7, Loss: 1.5438754746788426\n",
      "Epoch: 8, Loss: 1.4668110483571102\n",
      "Epoch: 9, Loss: 1.4009725294615094\n",
      "Epoch: 10, Loss: 1.3448578558470075\n",
      "Epoch: 11, Loss: 1.2968745106144954\n",
      "Epoch: 12, Loss: 1.2551636758603548\n",
      "Epoch: 13, Loss: 1.2179283091896458\n",
      "Epoch: 14, Loss: 1.1844127178192139\n",
      "Epoch: 15, Loss: 1.1540375728356211\n",
      "Epoch: 16, Loss: 1.1260926378400702\n",
      "Epoch: 17, Loss: 1.1002675451730426\n",
      "Epoch: 18, Loss: 1.0763151300580878\n",
      "Epoch: 19, Loss: 1.0541409128590633\n",
      "Epoch: 20, Loss: 1.0337836961997182\n",
      "Epoch: 21, Loss: 1.0149140546196385\n",
      "Epoch: 22, Loss: 0.9974033832550049\n",
      "Epoch: 23, Loss: 0.9810020233455458\n",
      "Epoch: 24, Loss: 0.9656160567936144\n",
      "Epoch: 25, Loss: 0.9512904631464105\n",
      "Epoch: 26, Loss: 0.93794668348212\n",
      "Epoch: 27, Loss: 0.9254364590895804\n",
      "Epoch: 28, Loss: 0.9136322987707037\n",
      "Epoch: 29, Loss: 0.9025025493220279\n",
      "Epoch: 30, Loss: 0.8919933438301086\n",
      "Epoch: 31, Loss: 0.8820547618364033\n",
      "Epoch: 32, Loss: 0.872597452841307\n",
      "Epoch: 33, Loss: 0.8635443103940863\n",
      "Epoch: 34, Loss: 0.8548615668949328\n",
      "Epoch: 35, Loss: 0.8463903257721349\n",
      "Epoch: 36, Loss: 0.8383103891422874\n",
      "Epoch: 37, Loss: 0.8305457799058211\n",
      "Epoch: 38, Loss: 0.8231873104446813\n",
      "Epoch: 39, Loss: 0.8160698382478011\n",
      "Epoch: 40, Loss: 0.8093867960729098\n",
      "Epoch: 41, Loss: 0.803050508624629\n",
      "Epoch: 42, Loss: 0.7969717069676048\n",
      "Epoch: 43, Loss: 0.7912355112402063\n",
      "Epoch: 44, Loss: 0.785705389160859\n",
      "Epoch: 45, Loss: 0.7804131084366849\n",
      "Epoch: 46, Loss: 0.7752274714018169\n",
      "Epoch: 47, Loss: 0.7701407812143627\n",
      "Epoch: 48, Loss: 0.7652328688847391\n",
      "Epoch: 49, Loss: 0.7605097999698237\n",
      "Epoch: 50, Loss: 0.7558753584560595\n",
      "Epoch: 51, Loss: 0.7514088953796186\n",
      "Epoch: 52, Loss: 0.7470816138543581\n",
      "Epoch: 53, Loss: 0.7428438224290547\n",
      "Epoch: 54, Loss: 0.7387220718358692\n",
      "Epoch: 55, Loss: 0.7346900842691723\n",
      "Epoch: 56, Loss: 0.7307712671003843\n",
      "Epoch: 57, Loss: 0.7268804327437752\n",
      "Epoch: 58, Loss: 0.723064295555416\n",
      "Epoch: 59, Loss: 0.7192836639128233\n",
      "Epoch: 60, Loss: 0.7156121919029638\n",
      "Epoch: 61, Loss: 0.7119607219570562\n",
      "Epoch: 62, Loss: 0.708378835728294\n",
      "Epoch: 63, Loss: 0.7048642462805698\n",
      "Epoch: 64, Loss: 0.7013828017209706\n",
      "Epoch: 65, Loss: 0.6979041868134549\n",
      "Epoch: 66, Loss: 0.6944884046127922\n",
      "Epoch: 67, Loss: 0.691078223680195\n",
      "Epoch: 68, Loss: 0.6876405712805296\n",
      "Epoch: 69, Loss: 0.6842455722783741\n",
      "Epoch: 70, Loss: 0.6809743736919603\n",
      "Epoch: 71, Loss: 0.6776109886796851\n",
      "Epoch: 72, Loss: 0.6743760704994202\n",
      "Epoch: 73, Loss: 0.6711075164769825\n",
      "Epoch: 74, Loss: 0.6679931345738863\n",
      "Epoch: 75, Loss: 0.664917318444503\n",
      "Epoch: 76, Loss: 0.6617787747006667\n",
      "Epoch: 77, Loss: 0.6587401455954501\n",
      "Epoch: 78, Loss: 0.6557148287170812\n",
      "Epoch: 79, Loss: 0.6527369257650877\n",
      "Epoch: 80, Loss: 0.6497571609522167\n",
      "Epoch: 81, Loss: 0.6467959457322171\n",
      "Epoch: 82, Loss: 0.6438946865106884\n",
      "Epoch: 83, Loss: 0.6408641228550359\n",
      "Epoch: 84, Loss: 0.6379857267204084\n",
      "Epoch: 85, Loss: 0.6349808165901586\n",
      "Epoch: 86, Loss: 0.6321188525149697\n",
      "Epoch: 87, Loss: 0.629126572295239\n",
      "Epoch: 88, Loss: 0.6262095021574121\n",
      "Epoch: 89, Loss: 0.6233567877819663\n",
      "Epoch: 90, Loss: 0.6204311675147006\n",
      "Epoch: 91, Loss: 0.6175213409097571\n",
      "Epoch: 92, Loss: 0.6145251314891013\n",
      "Epoch: 93, Loss: 0.6113350093364716\n",
      "Epoch: 94, Loss: 0.6081136998377348\n",
      "Epoch: 95, Loss: 0.604654062735407\n",
      "Epoch: 96, Loss: 0.6010392198437139\n",
      "Epoch: 97, Loss: 0.5975618048718101\n",
      "Epoch: 98, Loss: 0.5942061276812303\n",
      "Epoch: 99, Loss: 0.5908588861164293\n",
      "Epoch: 100, Loss: 0.5875630582633772\n",
      "Epoch: 101, Loss: 0.584253662510922\n",
      "Epoch: 102, Loss: 0.5808345157849161\n",
      "Epoch: 103, Loss: 0.5774083843356684\n",
      "Epoch: 104, Loss: 0.5742061169523942\n",
      "Epoch: 105, Loss: 0.5710359780411971\n",
      "Epoch: 106, Loss: 0.5677073880245811\n",
      "Epoch: 107, Loss: 0.5646645505177347\n",
      "Epoch: 108, Loss: 0.5613882337745867\n",
      "Epoch: 109, Loss: 0.5584389379149989\n",
      "Epoch: 110, Loss: 0.5553093834927207\n",
      "Epoch: 111, Loss: 0.5520842200831363\n",
      "Epoch: 112, Loss: 0.5489370022949419\n",
      "Epoch: 113, Loss: 0.5458992782392\n",
      "Epoch: 114, Loss: 0.5427676188318353\n",
      "Epoch: 115, Loss: 0.5397488098395499\n",
      "Epoch: 116, Loss: 0.536697506904602\n",
      "Epoch: 117, Loss: 0.5336025121964907\n",
      "Epoch: 118, Loss: 0.5304732118782244\n",
      "Epoch: 119, Loss: 0.5275539112718481\n",
      "Epoch: 120, Loss: 0.524489562762411\n",
      "Epoch: 121, Loss: 0.5215357949859217\n",
      "Epoch: 122, Loss: 0.5185404890461972\n",
      "Epoch: 123, Loss: 0.515632257649773\n",
      "Epoch: 124, Loss: 0.5127156706232774\n",
      "Epoch: 125, Loss: 0.5097631278790926\n",
      "Epoch: 126, Loss: 0.5069734312986073\n",
      "Epoch: 127, Loss: 0.5041547731349343\n",
      "Epoch: 128, Loss: 0.5013123311494526\n",
      "Epoch: 129, Loss: 0.4984854334279111\n",
      "Epoch: 130, Loss: 0.49564478350313085\n",
      "Epoch: 131, Loss: 0.4928826830889049\n",
      "Epoch: 132, Loss: 0.4901151084586194\n",
      "Epoch: 133, Loss: 0.4873762585614857\n",
      "Epoch: 134, Loss: 0.4845805717142005\n",
      "Epoch: 135, Loss: 0.48190264168538544\n",
      "Epoch: 136, Loss: 0.47916946756212336\n",
      "Epoch: 137, Loss: 0.47652338758895274\n",
      "Epoch: 138, Loss: 0.4736690293801458\n",
      "Epoch: 139, Loss: 0.470970891023937\n",
      "Epoch: 140, Loss: 0.4682490135494031\n",
      "Epoch: 141, Loss: 0.4654901655096757\n",
      "Epoch: 142, Loss: 0.4626889228820801\n",
      "Epoch: 143, Loss: 0.4600391882030587\n",
      "Epoch: 144, Loss: 0.457238550248899\n",
      "Epoch: 145, Loss: 0.4546574793363872\n",
      "Epoch: 146, Loss: 0.45184601215939774\n",
      "Epoch: 147, Loss: 0.4493163094708794\n",
      "Epoch: 148, Loss: 0.44658234637034566\n",
      "Epoch: 149, Loss: 0.4440106404455085\n",
      "Epoch: 150, Loss: 0.4413236709017503\n",
      "Epoch: 151, Loss: 0.4386049548262044\n",
      "Epoch: 152, Loss: 0.4360399105046925\n",
      "Epoch: 153, Loss: 0.433265031952607\n",
      "Epoch: 154, Loss: 0.43067791979563863\n",
      "Epoch: 155, Loss: 0.427957263432051\n",
      "Epoch: 156, Loss: 0.4254161182202791\n",
      "Epoch: 157, Loss: 0.42280105932762746\n",
      "Epoch: 158, Loss: 0.4201946140904176\n",
      "Epoch: 159, Loss: 0.4175671056697243\n",
      "Epoch: 160, Loss: 0.41503971422973435\n",
      "Epoch: 161, Loss: 0.4123630288400148\n",
      "Epoch: 162, Loss: 0.4098278417399055\n",
      "Epoch: 163, Loss: 0.40727847343996953\n",
      "Epoch: 164, Loss: 0.404694590913622\n",
      "Epoch: 165, Loss: 0.4020944739642896\n",
      "Epoch: 166, Loss: 0.3996102629523528\n",
      "Epoch: 167, Loss: 0.3969483799056003\n",
      "Epoch: 168, Loss: 0.3944168922148253\n",
      "Epoch: 169, Loss: 0.3919239804932946\n",
      "Epoch: 170, Loss: 0.38936056745679753\n",
      "Epoch: 171, Loss: 0.38686160351100723\n",
      "Epoch: 172, Loss: 0.3843831286618584\n",
      "Epoch: 173, Loss: 0.3818001245197497\n",
      "Epoch: 174, Loss: 0.3794204969155161\n",
      "Epoch: 175, Loss: 0.3768717317204726\n",
      "Epoch: 176, Loss: 0.3744924225305256\n",
      "Epoch: 177, Loss: 0.3719037982978319\n",
      "Epoch: 178, Loss: 0.3694731514704855\n",
      "Epoch: 179, Loss: 0.36702641923176615\n",
      "Epoch: 180, Loss: 0.3646557629108429\n",
      "Epoch: 181, Loss: 0.3620628243998477\n",
      "Epoch: 182, Loss: 0.35977429935806676\n",
      "Epoch: 183, Loss: 0.3572907322331479\n",
      "Epoch: 184, Loss: 0.3548598642411985\n",
      "Epoch: 185, Loss: 0.3524543211648339\n",
      "Epoch: 186, Loss: 0.35005449542873784\n",
      "Epoch: 187, Loss: 0.34771984658743205\n",
      "Epoch: 188, Loss: 0.3453035040905601\n",
      "Epoch: 189, Loss: 0.3430389856037341\n",
      "Epoch: 190, Loss: 0.3405716168253045\n",
      "Epoch: 191, Loss: 0.3383350952675468\n",
      "Epoch: 192, Loss: 0.33605120291835383\n",
      "Epoch: 193, Loss: 0.33364759385585785\n",
      "Epoch: 194, Loss: 0.3314590658012189\n",
      "Epoch: 195, Loss: 0.32917134855922897\n",
      "Epoch: 196, Loss: 0.32692919357826833\n",
      "Epoch: 197, Loss: 0.3246127382705086\n",
      "Epoch: 198, Loss: 0.32240601040815053\n",
      "Epoch: 199, Loss: 0.32013890304063497\n",
      "Epoch: 200, Loss: 0.31782333239128713\n",
      "Epoch: 201, Loss: 0.3156549318840629\n",
      "Epoch: 202, Loss: 0.3133779372039594\n",
      "Epoch: 203, Loss: 0.311112788947005\n",
      "Epoch: 204, Loss: 0.3089427030400226\n",
      "Epoch: 205, Loss: 0.30679006952988475\n",
      "Epoch: 206, Loss: 0.30455564589876877\n",
      "Epoch: 207, Loss: 0.302451911725496\n",
      "Epoch: 208, Loss: 0.3002359969051261\n",
      "Epoch: 209, Loss: 0.2981752517976259\n",
      "Epoch: 210, Loss: 0.2959907486250526\n",
      "Epoch: 211, Loss: 0.29382704825777756\n",
      "Epoch: 212, Loss: 0.29175470612551035\n",
      "Epoch: 213, Loss: 0.2896067006023307\n",
      "Epoch: 214, Loss: 0.28754680564529017\n",
      "Epoch: 215, Loss: 0.28542372113779974\n",
      "Epoch: 216, Loss: 0.28337415582255315\n",
      "Epoch: 217, Loss: 0.28128507654917867\n",
      "Epoch: 218, Loss: 0.27925806845489304\n",
      "Epoch: 219, Loss: 0.27719565049598094\n",
      "Epoch: 220, Loss: 0.2751894342271905\n",
      "Epoch: 221, Loss: 0.2731712640900361\n",
      "Epoch: 222, Loss: 0.27108447018422577\n",
      "Epoch: 223, Loss: 0.2690911857705367\n",
      "Epoch: 224, Loss: 0.26710959837624904\n",
      "Epoch: 225, Loss: 0.26520503077067825\n",
      "Epoch: 226, Loss: 0.263114118654477\n",
      "Epoch: 227, Loss: 0.2612124559910674\n",
      "Epoch: 228, Loss: 0.2592229251014559\n",
      "Epoch: 229, Loss: 0.2573533764010982\n",
      "Epoch: 230, Loss: 0.2553403016768004\n",
      "Epoch: 231, Loss: 0.2534501999616623\n",
      "Epoch: 232, Loss: 0.25156798449001816\n",
      "Epoch: 233, Loss: 0.24967747573789797\n",
      "Epoch: 234, Loss: 0.24774065221610822\n",
      "Epoch: 235, Loss: 0.2458413651115016\n",
      "Epoch: 236, Loss: 0.24403638627968335\n",
      "Epoch: 237, Loss: 0.24212379047745153\n",
      "Epoch: 238, Loss: 0.24030350148677826\n",
      "Epoch: 239, Loss: 0.23842955498318924\n",
      "Epoch: 240, Loss: 0.23669280543139107\n",
      "Epoch: 241, Loss: 0.23481203615665436\n",
      "Epoch: 242, Loss: 0.23304018770393573\n",
      "Epoch: 243, Loss: 0.2312221334953057\n",
      "Epoch: 244, Loss: 0.22945634158034073\n",
      "Epoch: 245, Loss: 0.22771589026639336\n",
      "Epoch: 246, Loss: 0.22597739610232806\n",
      "Epoch: 247, Loss: 0.22412598211514323\n",
      "Epoch: 248, Loss: 0.22252006279794792\n",
      "Epoch: 249, Loss: 0.2207563103813874\n",
      "Epoch: 250, Loss: 0.21907141177277817\n",
      "Epoch: 251, Loss: 0.21732695047792636\n",
      "Epoch: 252, Loss: 0.21562542883973373\n",
      "Epoch: 253, Loss: 0.2139451746877871\n",
      "Epoch: 254, Loss: 0.21226305553787633\n",
      "Epoch: 255, Loss: 0.2106026756136041\n",
      "Epoch: 256, Loss: 0.2088651182620149\n",
      "Epoch: 257, Loss: 0.2072112415181963\n",
      "Epoch: 258, Loss: 0.20549975374811574\n",
      "Epoch: 259, Loss: 0.20388986287932648\n",
      "Epoch: 260, Loss: 0.20225434515037036\n",
      "Epoch: 261, Loss: 0.20062316248291417\n",
      "Epoch: 262, Loss: 0.19901300770671745\n",
      "Epoch: 263, Loss: 0.197356137790178\n",
      "Epoch: 264, Loss: 0.19578352452893005\n",
      "Epoch: 265, Loss: 0.19414668138089933\n",
      "Epoch: 266, Loss: 0.19265603783883548\n",
      "Epoch: 267, Loss: 0.1910495973731342\n",
      "Epoch: 268, Loss: 0.1894836782624847\n",
      "Epoch: 269, Loss: 0.18795527321727654\n",
      "Epoch: 270, Loss: 0.1864212433758535\n",
      "Epoch: 271, Loss: 0.18486710088817696\n",
      "Epoch: 272, Loss: 0.18337692124278923\n",
      "Epoch: 273, Loss: 0.18180939790449643\n",
      "Epoch: 274, Loss: 0.18033514485547417\n",
      "Epoch: 275, Loss: 0.1788789269171263\n",
      "Epoch: 276, Loss: 0.17736347451021797\n",
      "Epoch: 277, Loss: 0.17590255878473582\n",
      "Epoch: 278, Loss: 0.17444872228722824\n",
      "Epoch: 279, Loss: 0.17298628546689687\n",
      "Epoch: 280, Loss: 0.1715863896043677\n",
      "Epoch: 281, Loss: 0.1701369360089302\n",
      "Epoch: 282, Loss: 0.1686993135433448\n",
      "Epoch: 283, Loss: 0.16732068712774076\n",
      "Epoch: 284, Loss: 0.1659399376888024\n",
      "Epoch: 285, Loss: 0.1645542912577328\n",
      "Epoch: 286, Loss: 0.1631670405990199\n",
      "Epoch: 287, Loss: 0.16179413936640086\n",
      "Epoch: 288, Loss: 0.16047045333605064\n",
      "Epoch: 289, Loss: 0.1591015858085532\n",
      "Epoch: 290, Loss: 0.15774265617916458\n",
      "Epoch: 291, Loss: 0.15645589071669078\n",
      "Epoch: 292, Loss: 0.15519799409728302\n",
      "Epoch: 293, Loss: 0.15382765625652514\n",
      "Epoch: 294, Loss: 0.15252610394044927\n",
      "Epoch: 295, Loss: 0.15127549634168022\n",
      "Epoch: 296, Loss: 0.1500499928860288\n",
      "Epoch: 297, Loss: 0.14875819259568265\n",
      "Epoch: 298, Loss: 0.14748262300303108\n",
      "Epoch: 299, Loss: 0.1462711366383653\n",
      "Epoch: 300, Loss: 0.1450144446601993\n",
      "Epoch: 301, Loss: 0.14384129114056887\n",
      "Epoch: 302, Loss: 0.14262017490048157\n",
      "Epoch: 303, Loss: 0.14132839206017947\n",
      "Epoch: 304, Loss: 0.14018628020819865\n",
      "Epoch: 305, Loss: 0.13895601524334206\n",
      "Epoch: 306, Loss: 0.13777051101389684\n",
      "Epoch: 307, Loss: 0.13664355932881958\n",
      "Epoch: 308, Loss: 0.13541229402548388\n",
      "Epoch: 309, Loss: 0.13426777602810608\n",
      "Epoch: 310, Loss: 0.13314621150493622\n",
      "Epoch: 311, Loss: 0.1319913652382399\n",
      "Epoch: 312, Loss: 0.13084967767721728\n",
      "Epoch: 313, Loss: 0.1297586026944612\n",
      "Epoch: 314, Loss: 0.12863672250195554\n",
      "Epoch: 315, Loss: 0.12748195172140472\n",
      "Epoch: 316, Loss: 0.12644352116867116\n",
      "Epoch: 317, Loss: 0.1253259778022766\n",
      "Epoch: 318, Loss: 0.12426791496967014\n",
      "Epoch: 319, Loss: 0.12314518246995776\n",
      "Epoch: 320, Loss: 0.12211211829593308\n",
      "Epoch: 321, Loss: 0.12101898107089494\n",
      "Epoch: 322, Loss: 0.12006889989501551\n",
      "Epoch: 323, Loss: 0.1189514341715135\n",
      "Epoch: 324, Loss: 0.11789329330387868\n",
      "Epoch: 325, Loss: 0.11691147422319964\n",
      "Epoch: 326, Loss: 0.11587470318926008\n",
      "Epoch: 327, Loss: 0.11486310276545976\n",
      "Epoch: 328, Loss: 0.11386435694600407\n",
      "Epoch: 329, Loss: 0.11286026925632828\n",
      "Epoch: 330, Loss: 0.11189328683050055\n",
      "Epoch: 331, Loss: 0.11089058436061207\n",
      "Epoch: 332, Loss: 0.10993141406460812\n",
      "Epoch: 333, Loss: 0.10900258135638739\n",
      "Epoch: 334, Loss: 0.10797102004289627\n",
      "Epoch: 335, Loss: 0.10707764621627958\n",
      "Epoch: 336, Loss: 0.10614146664738655\n",
      "Epoch: 337, Loss: 0.10517293999069616\n",
      "Epoch: 338, Loss: 0.10424832940885895\n",
      "Epoch: 339, Loss: 0.10332863464167244\n",
      "Epoch: 340, Loss: 0.10244647707594068\n",
      "Epoch: 341, Loss: 0.10150422842094772\n",
      "Epoch: 342, Loss: 0.10065643097224988\n",
      "Epoch: 343, Loss: 0.09971054564965398\n",
      "Epoch: 344, Loss: 0.09887704410051044\n",
      "Epoch: 345, Loss: 0.09794717399697554\n",
      "Epoch: 346, Loss: 0.09709191714462481\n",
      "Epoch: 347, Loss: 0.09623260756856516\n",
      "Epoch: 348, Loss: 0.09538467934257105\n",
      "Epoch: 349, Loss: 0.09448778923404844\n",
      "Epoch: 350, Loss: 0.09370153358108119\n",
      "Epoch: 351, Loss: 0.09284274417318795\n",
      "Epoch: 352, Loss: 0.09202054103738383\n",
      "Epoch: 353, Loss: 0.09120566907681917\n",
      "Epoch: 354, Loss: 0.09034856153946173\n",
      "Epoch: 355, Loss: 0.08955709440143485\n",
      "Epoch: 356, Loss: 0.08877004055600417\n",
      "Epoch: 357, Loss: 0.08793059677669876\n",
      "Epoch: 358, Loss: 0.08720984388338893\n",
      "Epoch: 359, Loss: 0.08635379305403483\n",
      "Epoch: 360, Loss: 0.08563194629785262\n",
      "Epoch: 361, Loss: 0.08483619644845787\n",
      "Epoch: 362, Loss: 0.0840582127045644\n",
      "Epoch: 363, Loss: 0.08329115337447117\n",
      "Epoch: 364, Loss: 0.08258006172744851\n",
      "Epoch: 365, Loss: 0.08182456942373201\n",
      "Epoch: 366, Loss: 0.08105225351295973\n",
      "Epoch: 367, Loss: 0.08035193795436307\n",
      "Epoch: 368, Loss: 0.07959702395294842\n",
      "Epoch: 369, Loss: 0.07888606543603696\n",
      "Epoch: 370, Loss: 0.07815549110895709\n",
      "Epoch: 371, Loss: 0.07747490292316989\n",
      "Epoch: 372, Loss: 0.07673484498732969\n",
      "Epoch: 373, Loss: 0.0760549527445906\n",
      "Epoch: 374, Loss: 0.07537412359134148\n",
      "Epoch: 375, Loss: 0.07464423726655935\n",
      "Epoch: 376, Loss: 0.07398064954108313\n",
      "Epoch: 377, Loss: 0.07334236673226482\n",
      "Epoch: 378, Loss: 0.07263291833039962\n",
      "Epoch: 379, Loss: 0.07196899091726855\n",
      "Epoch: 380, Loss: 0.07132288215583876\n",
      "Epoch: 381, Loss: 0.07068146196635146\n",
      "Epoch: 382, Loss: 0.07002776527875348\n",
      "Epoch: 383, Loss: 0.06936077263794448\n",
      "Epoch: 384, Loss: 0.06873144238795105\n",
      "Epoch: 385, Loss: 0.06810744851827621\n",
      "Epoch: 386, Loss: 0.0674707094501508\n",
      "Epoch: 387, Loss: 0.06686030004761721\n",
      "Epoch: 388, Loss: 0.06625176672088473\n",
      "Epoch: 389, Loss: 0.06561883735029321\n",
      "Epoch: 390, Loss: 0.06502947181855377\n",
      "Epoch: 391, Loss: 0.064420028344581\n",
      "Epoch: 392, Loss: 0.06381817358104806\n",
      "Epoch: 393, Loss: 0.06324122620648459\n",
      "Epoch: 394, Loss: 0.06264415353928741\n",
      "Epoch: 395, Loss: 0.06206282041966915\n",
      "Epoch: 396, Loss: 0.06150785912024347\n",
      "Epoch: 397, Loss: 0.060937823237557164\n",
      "Epoch: 398, Loss: 0.06036130936914369\n",
      "Epoch: 399, Loss: 0.05978952024720217\n",
      "Epoch: 400, Loss: 0.059284795565824756\n",
      "Epoch: 401, Loss: 0.05869053666921038\n",
      "Epoch: 402, Loss: 0.05817247936992269\n",
      "Epoch: 403, Loss: 0.05760566556924268\n",
      "Epoch: 404, Loss: 0.057066667334813824\n",
      "Epoch: 405, Loss: 0.056539815311369146\n",
      "Epoch: 406, Loss: 0.05603300652613765\n",
      "Epoch: 407, Loss: 0.05550144632395945\n",
      "Epoch: 408, Loss: 0.05497097900431407\n",
      "Epoch: 409, Loss: 0.054476266922919375\n",
      "Epoch: 410, Loss: 0.05397415827763708\n",
      "Epoch: 411, Loss: 0.05344465590621296\n",
      "Epoch: 412, Loss: 0.052957397836603616\n",
      "Epoch: 413, Loss: 0.05247573044739271\n",
      "Epoch: 414, Loss: 0.05196759016498139\n",
      "Epoch: 415, Loss: 0.05148857067290105\n",
      "Epoch: 416, Loss: 0.05098579392621392\n",
      "Epoch: 417, Loss: 0.050524293003897915\n",
      "Epoch: 418, Loss: 0.050041118342625465\n",
      "Epoch: 419, Loss: 0.04956251823980557\n",
      "Epoch: 420, Loss: 0.04908474319075283\n",
      "Epoch: 421, Loss: 0.048646285345679836\n",
      "Epoch: 422, Loss: 0.048175854902518425\n",
      "Epoch: 423, Loss: 0.047717075598867315\n",
      "Epoch: 424, Loss: 0.04724851142811148\n",
      "Epoch: 425, Loss: 0.04682878591120243\n",
      "Epoch: 426, Loss: 0.04637859349972323\n",
      "Epoch: 427, Loss: 0.04594856819235965\n",
      "Epoch: 428, Loss: 0.04548879845165893\n",
      "Epoch: 429, Loss: 0.04509660332022529\n",
      "Epoch: 430, Loss: 0.04464169503434708\n",
      "Epoch: 431, Loss: 0.04421584744398531\n",
      "Epoch: 432, Loss: 0.043809971183930575\n",
      "Epoch: 433, Loss: 0.04339146927783364\n",
      "Epoch: 434, Loss: 0.04297587231389786\n",
      "Epoch: 435, Loss: 0.042561555771451244\n",
      "Epoch: 436, Loss: 0.04215640746253101\n",
      "Epoch: 437, Loss: 0.041774112241048565\n",
      "Epoch: 438, Loss: 0.04135515898662178\n",
      "Epoch: 439, Loss: 0.04096032943772642\n",
      "Epoch: 440, Loss: 0.04058109135612061\n",
      "Epoch: 441, Loss: 0.04017551272715393\n",
      "Epoch: 442, Loss: 0.03978856295151146\n",
      "Epoch: 443, Loss: 0.03941302060296661\n",
      "Epoch: 444, Loss: 0.03905503598875121\n",
      "Epoch: 445, Loss: 0.038669388006000144\n",
      "Epoch: 446, Loss: 0.0382876930954425\n",
      "Epoch: 447, Loss: 0.03791766471572613\n",
      "Epoch: 448, Loss: 0.03756101502987899\n",
      "Epoch: 449, Loss: 0.03721087822984708\n",
      "Epoch: 450, Loss: 0.03684572105933177\n",
      "Epoch: 451, Loss: 0.03650932195351312\n",
      "Epoch: 452, Loss: 0.03614231792131537\n",
      "Epoch: 453, Loss: 0.03579887860503636\n",
      "Epoch: 454, Loss: 0.03546365580864643\n",
      "Epoch: 455, Loss: 0.03513360842082061\n",
      "Epoch: 456, Loss: 0.034773024877435284\n",
      "Epoch: 457, Loss: 0.034457747187269364\n",
      "Epoch: 458, Loss: 0.03412978076621106\n",
      "Epoch: 459, Loss: 0.03379461125127579\n",
      "Epoch: 460, Loss: 0.03347438034650527\n",
      "Epoch: 461, Loss: 0.03314654450667532\n",
      "Epoch: 462, Loss: 0.03283579407357856\n",
      "Epoch: 463, Loss: 0.0325164129271319\n",
      "Epoch: 464, Loss: 0.0322121240590748\n",
      "Epoch: 465, Loss: 0.031896973715016715\n",
      "Epoch: 466, Loss: 0.03158988225224771\n",
      "Epoch: 467, Loss: 0.03127961821461979\n",
      "Epoch: 468, Loss: 0.030997705988978084\n",
      "Epoch: 469, Loss: 0.03069205567436783\n",
      "Epoch: 470, Loss: 0.030402356954781634\n",
      "Epoch: 471, Loss: 0.030099397378140373\n",
      "Epoch: 472, Loss: 0.029818931986626825\n",
      "Epoch: 473, Loss: 0.02953676413744688\n",
      "Epoch: 474, Loss: 0.029239813797175884\n",
      "Epoch: 475, Loss: 0.028961212570337874\n",
      "Epoch: 476, Loss: 0.028692763200715968\n",
      "Epoch: 477, Loss: 0.02841658973576207\n",
      "Epoch: 478, Loss: 0.028135959402118858\n",
      "Epoch: 479, Loss: 0.027870075924223976\n",
      "Epoch: 480, Loss: 0.027603252692834326\n",
      "Epoch: 481, Loss: 0.027338559347155848\n",
      "Epoch: 482, Loss: 0.027073501364180918\n",
      "Epoch: 483, Loss: 0.026810822959401105\n",
      "Epoch: 484, Loss: 0.02655361298667757\n",
      "Epoch: 485, Loss: 0.026307124546483943\n",
      "Epoch: 486, Loss: 0.02606451893715482\n",
      "Epoch: 487, Loss: 0.025797030986531785\n",
      "Epoch: 488, Loss: 0.02555841526114627\n",
      "Epoch: 489, Loss: 0.02531893448413987\n",
      "Epoch: 490, Loss: 0.025072111208972177\n",
      "Epoch: 491, Loss: 0.02481945094309355\n",
      "Epoch: 492, Loss: 0.0245929538811508\n",
      "Epoch: 493, Loss: 0.02435655524267962\n",
      "Epoch: 494, Loss: 0.024106231665140705\n",
      "Epoch: 495, Loss: 0.02388216035538598\n",
      "Epoch: 496, Loss: 0.02366337591880246\n",
      "Epoch: 497, Loss: 0.023428521241600577\n",
      "Epoch: 498, Loss: 0.023193454100309235\n",
      "Epoch: 499, Loss: 0.022981738304033092\n",
      "Epoch: 500, Loss: 0.022759210122259038\n"
     ]
    }
   ],
   "source": [
    "epochs = 500\n",
    "for e in range(0, epochs):\n",
    "    model.train()\n",
    "    current_loss = 0\n",
    "    for i, (X, y) in enumerate(train_dataloader):\n",
    "        optimizer.zero_grad()\n",
    "        \n",
    "        # To GPU\n",
    "        X = X.to(device)\n",
    "        y = y.to(device).double()\n",
    "        output = model(X).double()\n",
    "        loss = loss_function(output, y)\n",
    "        loss = loss.type(torch.cuda.FloatTensor)\n",
    "        loss.backward()\n",
    "        optimizer.step()\n",
    "        current_loss += loss.item()\n",
    "        torch.cuda.empty_cache()\n",
    "    print(f'Epoch: {e+1}, Loss: {current_loss/len(train_dataloader)}')"
   ]
  },
  {
   "cell_type": "code",
   "execution_count": 0,
   "metadata": {
    "colab": {},
    "colab_type": "code",
    "id": "8NX1N2OcBUCq"
   },
   "outputs": [],
   "source": [
    "test_outputs = []\n",
    "for i, (X, y) in enumerate(test_dataloader):\n",
    "    optimizer.zero_grad()\n",
    "    X = X.to(device)\n",
    "    output = model(X)   \n",
    "    test_outputs.append(output.cpu().detach().numpy())\n",
    "test_outputs_converted = []\n",
    "for i in range(len(test_outputs)):\n",
    "    current = test_outputs[i][0]\n",
    "    add = [1 if x >= 0.50 else 0 for x in current]\n",
    "    test_outputs_converted.append(add)\n",
    "test_outputs_converted = np.array(test_outputs_converted)"
   ]
  },
  {
   "cell_type": "code",
   "execution_count": 0,
   "metadata": {
    "colab": {
     "base_uri": "https://localhost:8080/",
     "height": 34
    },
    "colab_type": "code",
    "id": "9dwAotu9Bc4R",
    "outputId": "dc34620b-ba83-469f-9ee2-792875d2f182"
   },
   "outputs": [
    {
     "name": "stdout",
     "output_type": "stream",
     "text": [
      "Testing Accuracy: 0.7272727272727273\n"
     ]
    }
   ],
   "source": [
    "accuracy = 0\n",
    "missed = []\n",
    "for i in range(len(test_outputs_converted)):\n",
    "    if collections.Counter(test_outputs_converted[i]) == collections.Counter(converted_test[i]):\n",
    "        accuracy += 1\n",
    "    else:\n",
    "        missed.append(i)\n",
    "print(f'Testing Accuracy: {accuracy/33}')"
   ]
  },
  {
   "cell_type": "markdown",
   "metadata": {
    "colab_type": "text",
    "id": "KxmhAL8oF3sw"
   },
   "source": [
    "# Which genes did the supervised methods identify as the most important?"
   ]
  },
  {
   "cell_type": "code",
   "execution_count": 32,
   "metadata": {},
   "outputs": [],
   "source": [
    "original_data = pd.read_csv('data/study_1/expression_data.csv')"
   ]
  },
  {
   "cell_type": "code",
   "execution_count": 34,
   "metadata": {},
   "outputs": [],
   "source": [
    "all_gene_names = list(original_data['Gene_Name'])\n",
    "genes_selected = [all_gene_names[int(x)] for x in train_data.columns]"
   ]
  },
  {
   "cell_type": "code",
   "execution_count": 29,
   "metadata": {
    "colab": {},
    "colab_type": "code",
    "id": "11hekLri05RO"
   },
   "outputs": [],
   "source": [
    "common_components = []\n",
    "for i in non_zero_pi:\n",
    "    if i in top_100_rfe:\n",
    "        common_components.append(i)"
   ]
  },
  {
   "cell_type": "code",
   "execution_count": 40,
   "metadata": {
    "colab": {},
    "colab_type": "code",
    "id": "tuTEnoDT1uZK"
   },
   "outputs": [],
   "source": [
    "common_pca = pd.DataFrame(pca.components_).iloc[common_components]\n",
    "important_supervised_genes = []\n",
    "for i in range(len(common_components)):\n",
    "    important_supervised_genes.append([pd.DataFrame(np.abs(common_pca)).T.nlargest(1, common_components[i]).index.values])\n",
    "important_supervised_genes = np.unique(important_supervised_genes, return_counts=False)"
   ]
  },
  {
   "cell_type": "code",
   "execution_count": 41,
   "metadata": {
    "colab": {
     "base_uri": "https://localhost:8080/",
     "height": 416
    },
    "colab_type": "code",
    "id": "6IKNFDJL2tzE",
    "outputId": "19a974d2-e32e-4f34-bdd7-c97a06012f91"
   },
   "outputs": [
    {
     "name": "stdout",
     "output_type": "stream",
     "text": [
      "AC007551.3\n",
      "AC009950.2\n",
      "APOC1P1\n",
      "ARL4A\n",
      "ARL4D\n",
      "C5orf63\n",
      "CA8\n",
      "CABP7\n",
      "CASP4\n",
      "CDC42EP4\n",
      "CES4A\n",
      "CIB2\n",
      "CRYBB2P1\n",
      "CTA-253N17.1\n",
      "CTU1\n",
      "DDX11L2\n",
      "DHX40P1\n",
      "ETNK2\n",
      "FKBP5\n",
      "GPR146\n",
      "GS1-259H13.2\n",
      "GSTT2B\n",
      "IFI27\n",
      "IGLV5-52\n",
      "KANSL1L\n",
      "KDM5D\n",
      "LA16c-380A1.1\n",
      "LECT1\n",
      "MEIS2\n",
      "MT-ATP8\n",
      "MYO5BP2\n",
      "NDRG1\n",
      "NOS2\n",
      "NR4A1\n",
      "NRG1\n",
      "NSUN5P2\n",
      "NXN\n",
      "OSBP2\n",
      "PCDHGA9\n",
      "PIK3C2B\n",
      "PIPOX\n",
      "PLXNA4\n",
      "RNF207\n",
      "RNVU1-7\n",
      "RP1-37N7.3\n",
      "RP11-108M9.4\n",
      "RP11-108P20.1\n",
      "RP11-222A11.1\n",
      "RP11-329B9.5\n",
      "RP11-395G23.3\n",
      "RP11-3B12.1\n",
      "RP11-449P15.2\n",
      "RP11-488L18.10\n",
      "RP11-572P18.1\n",
      "RP11-672L10.6\n",
      "RP11-730A19.9\n",
      "RP11-797A18.6\n",
      "RP11-844P9.2\n",
      "RP11-967K21.1\n",
      "RP11-96H19.1\n",
      "RP11-977G19.12\n",
      "RP3-430N8.10\n",
      "RP4-669L17.8\n",
      "RP4-734P14.4\n",
      "RP4-781K5.2\n",
      "RPL36A-HNRNPH2\n",
      "RPPH1\n",
      "RPS17L\n",
      "RPSAP41\n",
      "SBF2-AS1\n",
      "SETD9\n",
      "SHC4\n",
      "SLC38A11\n",
      "SLC4A11\n",
      "SLIT2\n",
      "SNORA59B\n",
      "SNORD17\n",
      "SPCS2P4\n",
      "SVEP1\n",
      "TAF4B\n",
      "TECRP1\n",
      "TLE1\n",
      "TNKS2-AS1\n",
      "TOLLIP-AS1\n",
      "TXLNG2P\n",
      "ZBTB16\n",
      "ZFY\n",
      "ZNF229\n",
      "ZNF469\n"
     ]
    }
   ],
   "source": [
    "for i in important_supervised_genes:\n",
    "    print(genes_selected[i])"
   ]
  }
 ],
 "metadata": {
  "accelerator": "GPU",
  "colab": {
   "collapsed_sections": [],
   "name": "supervised_methods.ipynb",
   "provenance": [],
   "toc_visible": true
  },
  "kernelspec": {
   "display_name": "applied_ml",
   "language": "python",
   "name": "applied_ml"
  },
  "language_info": {
   "codemirror_mode": {
    "name": "ipython",
    "version": 3
   },
   "file_extension": ".py",
   "mimetype": "text/x-python",
   "name": "python",
   "nbconvert_exporter": "python",
   "pygments_lexer": "ipython3",
   "version": "3.6.10"
  }
 },
 "nbformat": 4,
 "nbformat_minor": 1
}
