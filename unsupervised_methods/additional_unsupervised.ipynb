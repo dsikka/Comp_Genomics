{
 "cells": [
  {
   "cell_type": "code",
   "execution_count": 1,
   "metadata": {},
   "outputs": [],
   "source": [
    "import pandas as pd\n",
    "import numpy as np\n",
    "import matplotlib.pyplot as plt\n",
    "from sklearn.impute import SimpleImputer\n",
    "from sklearn.feature_selection import VarianceThreshold\n",
    "from sklearn.model_selection import train_test_split\n",
    "from sklearn.preprocessing import StandardScaler, FunctionTransformer\n",
    "from sklearn.decomposition import PCA\n",
    "import seaborn as sb\n",
    "from scipy.cluster import hierarchy\n",
    "from scipy.stats import variation\n",
    "from sklearn.cluster import AgglomerativeClustering, Birch\n",
    "from sklearn.decomposition import PCA\n",
    "from sklearn.manifold import TSNE\n",
    "from sklearn.metrics import accuracy_score\n",
    "from sklearn.decomposition import FactorAnalysis\n",
    "from sklearn.decomposition import MiniBatchSparsePCA\n",
    "from sklearn.mixture import GaussianMixture"
   ]
  },
  {
   "cell_type": "markdown",
   "metadata": {},
   "source": [
    "# Load Processed Data"
   ]
  },
  {
   "cell_type": "code",
   "execution_count": 2,
   "metadata": {},
   "outputs": [],
   "source": [
    "train_data = pd.read_csv('train_data_processed.csv')\n",
    "test_data = pd.read_csv('test_data_processed.csv')\n",
    "train_labels = np.load('train_labels.csv.npy', allow_pickle=True)\n",
    "test_labels = np.load('test_labels.csv.npy', allow_pickle=True)"
   ]
  },
  {
   "cell_type": "markdown",
   "metadata": {},
   "source": [
    "# Determine important genes from PCA"
   ]
  },
  {
   "cell_type": "code",
   "execution_count": 3,
   "metadata": {},
   "outputs": [],
   "source": [
    "# Explains more than 80% of the variance in the data\n",
    "pca = PCA(n_components=100)\n",
    "scaler = StandardScaler()\n",
    "\n",
    "train_scaled = scaler.fit_transform(train_data)\n",
    "pca_train_genes = pca.fit_transform(train_scaled)\n",
    "\n",
    "test_scaled = scaler.transform(test_data)\n",
    "pca_test_genes = pca.transform(test_scaled)\n",
    "\n",
    "all_weights = pd.DataFrame(pca.components_)\n",
    "all_weights.columns = train_data.columns.values"
   ]
  },
  {
   "cell_type": "code",
   "execution_count": 4,
   "metadata": {},
   "outputs": [],
   "source": [
    "important_genes = []\n",
    "for i in range(50):\n",
    "    important_genes.append([pd.DataFrame(np.abs(all_weights)).T.nlargest(100, i).index.values])\n",
    "important_genes = np.unique(important_genes, return_counts=False)"
   ]
  },
  {
   "cell_type": "code",
   "execution_count": 5,
   "metadata": {},
   "outputs": [],
   "source": [
    "important_train = train_data[important_genes]\n",
    "important_test = test_data[important_genes]"
   ]
  },
  {
   "cell_type": "code",
   "execution_count": 6,
   "metadata": {},
   "outputs": [],
   "source": [
    "label_mapping = {'WHO II': 2, 'WHO III': 1, 'WHO IV': 0}\n",
    "mapped_labels_train = [label_mapping[x[0]] for x in train_labels]\n",
    "mapped_labels_test = [label_mapping[x[0]] for x in test_labels]"
   ]
  },
  {
   "cell_type": "markdown",
   "metadata": {},
   "source": [
    "# Determine Important Genes from FA"
   ]
  },
  {
   "cell_type": "code",
   "execution_count": 7,
   "metadata": {},
   "outputs": [],
   "source": [
    "factors = FactorAnalysis(n_components = 100, copy = True, random_state = 15)\n",
    "fa_train_genes = factors.fit_transform(train_data)\n",
    "fa_test_genes = factors.transform(test_data)"
   ]
  },
  {
   "cell_type": "code",
   "execution_count": 8,
   "metadata": {},
   "outputs": [],
   "source": [
    "all_weights = pd.DataFrame(factors.components_)\n",
    "col_names = train_data.columns.values\n",
    "all_weights.columns = col_names"
   ]
  },
  {
   "cell_type": "code",
   "execution_count": 9,
   "metadata": {},
   "outputs": [],
   "source": [
    "fa_important_genes = []\n",
    "temp = pd.DataFrame(np.abs(all_weights)).T\n",
    "for i in range(50):\n",
    "    fa_important_genes.extend(temp.nlargest(100, i).index.values)\n",
    "fa_important_genes = np.unique(fa_important_genes)\n",
    "fa_important_train = train_data[fa_important_genes]\n",
    "fa_important_test = test_data[fa_important_genes]"
   ]
  },
  {
   "cell_type": "markdown",
   "metadata": {},
   "source": [
    "# Sparse PCA"
   ]
  },
  {
   "cell_type": "code",
   "execution_count": 10,
   "metadata": {},
   "outputs": [],
   "source": [
    "n = 2\n",
    "sparse_pca = MiniBatchSparsePCA(n_components = n).fit(train_scaled)\n",
    "sparse_train_genes = sparse_pca.transform(train_scaled)\n",
    "sparse_test_genes = sparse_pca.transform(test_scaled)"
   ]
  },
  {
   "cell_type": "markdown",
   "metadata": {},
   "source": [
    "# Common Functions"
   ]
  },
  {
   "cell_type": "code",
   "execution_count": 11,
   "metadata": {},
   "outputs": [],
   "source": [
    "def display_pca(input_data, labels, title):\n",
    "    high_scaler = StandardScaler()\n",
    "    input_scaled = high_scaler.fit_transform(input_data)\n",
    "    \n",
    "    pca = PCA(n_components=2)\n",
    "    transformed_data = pca.fit_transform(input_scaled)\n",
    "    \n",
    "    data_df = pd.DataFrame(data = transformed_data, columns = ['principal component 1', 'principal component 2'])\n",
    "    class_labels_df = pd.DataFrame(labels)\n",
    "    data_df = pd.concat([data_df, class_labels_df], axis = 1)\n",
    "    data_df.columns = ['PC1', 'PC2', 'Grade']\n",
    "    \n",
    "    fig = plt.figure(figsize = (20, 10))\n",
    "    ax = fig.add_subplot(1,2,1) \n",
    "    ax.set_title(title, fontsize = 15)\n",
    "    ax.set_xlabel('Principal Component 1', fontsize = 15)\n",
    "    ax.set_ylabel('Principal Component 2', fontsize = 15)\n",
    "    targets = [0, 1, 2]\n",
    "    colors = ['r', 'g', 'b']\n",
    "    for target, color in zip(targets,colors):\n",
    "        indicesToKeep = data_df['Grade'] == target\n",
    "        ax.scatter(data_df.loc[indicesToKeep, 'PC1']\n",
    "                   , data_df.loc[indicesToKeep, 'PC2']\n",
    "                   , c = color\n",
    "                   , s = 50)\n",
    "    ax.legend(targets)\n",
    "    ax.grid()"
   ]
  },
  {
   "cell_type": "code",
   "execution_count": 12,
   "metadata": {},
   "outputs": [],
   "source": [
    "def get_accuracy(true_labels, predicted_labels):\n",
    "    accuracy = 0\n",
    "    for i in range(len(true_labels)):\n",
    "        if true_labels[i] == predicted_labels[i]:\n",
    "            accuracy += 1\n",
    "    return accuracy/len(true_labels)"
   ]
  },
  {
   "cell_type": "code",
   "execution_count": 13,
   "metadata": {},
   "outputs": [],
   "source": [
    "def get_birch_model(input_data):\n",
    "    birch_cluster = Birch(n_clusters=3)\n",
    "    results = birch_cluster.fit_predict(input_data)\n",
    "    return birch_cluster, results"
   ]
  },
  {
   "cell_type": "code",
   "execution_count": 14,
   "metadata": {},
   "outputs": [],
   "source": [
    "def get_gmm_model(input_data):\n",
    "    mixture_model = GaussianMixture(n_components=3, verbose=1, max_iter=1000, warm_start=True)\n",
    "    predictions = mixture_model.fit_predict(input_data)\n",
    "    return mixture_model, predictions"
   ]
  },
  {
   "cell_type": "markdown",
   "metadata": {},
   "source": [
    "# Apply BIRCH to the three methods above"
   ]
  },
  {
   "cell_type": "markdown",
   "metadata": {},
   "source": [
    "### PCA Important Genes"
   ]
  },
  {
   "cell_type": "code",
   "execution_count": 155,
   "metadata": {},
   "outputs": [
    {
     "data": {
      "text/plain": [
       "0.5958904109589042"
      ]
     },
     "execution_count": 155,
     "metadata": {},
     "output_type": "execute_result"
    }
   ],
   "source": [
    "birch_cluster, results = get_birch_model(important_train)\n",
    "get_accuracy(mapped_labels_train, results)"
   ]
  },
  {
   "cell_type": "code",
   "execution_count": 156,
   "metadata": {},
   "outputs": [
    {
     "data": {
      "text/plain": [
       "0.6363636363636364"
      ]
     },
     "execution_count": 156,
     "metadata": {},
     "output_type": "execute_result"
    }
   ],
   "source": [
    "results = birch_cluster.predict(important_test)\n",
    "get_accuracy(results, mapped_labels_test)"
   ]
  },
  {
   "cell_type": "markdown",
   "metadata": {},
   "source": [
    "### FA Important Genes"
   ]
  },
  {
   "cell_type": "code",
   "execution_count": 157,
   "metadata": {},
   "outputs": [
    {
     "data": {
      "text/plain": [
       "0.22945205479452055"
      ]
     },
     "execution_count": 157,
     "metadata": {},
     "output_type": "execute_result"
    }
   ],
   "source": [
    "birch_cluster, results = get_birch_model(fa_important_train)\n",
    "get_accuracy(mapped_labels_train, results)"
   ]
  },
  {
   "cell_type": "code",
   "execution_count": 144,
   "metadata": {},
   "outputs": [
    {
     "data": {
      "text/plain": [
       "0.18181818181818182"
      ]
     },
     "execution_count": 144,
     "metadata": {},
     "output_type": "execute_result"
    }
   ],
   "source": [
    "results = birch_cluster.predict(fa_important_test)\n",
    "get_accuracy(results, mapped_labels_test)"
   ]
  },
  {
   "cell_type": "markdown",
   "metadata": {},
   "source": [
    "### Sparse PCA"
   ]
  },
  {
   "cell_type": "code",
   "execution_count": 148,
   "metadata": {},
   "outputs": [
    {
     "data": {
      "text/plain": [
       "0.476027397260274"
      ]
     },
     "execution_count": 148,
     "metadata": {},
     "output_type": "execute_result"
    }
   ],
   "source": [
    "birch_cluster, results = get_birch_model(sparse_train_genes)\n",
    "get_accuracy(mapped_labels_train, results)"
   ]
  },
  {
   "cell_type": "code",
   "execution_count": 147,
   "metadata": {},
   "outputs": [
    {
     "data": {
      "text/plain": [
       "0.45454545454545453"
      ]
     },
     "execution_count": 147,
     "metadata": {},
     "output_type": "execute_result"
    }
   ],
   "source": [
    "results = birch_cluster.predict(sparse_test_genes)\n",
    "get_accuracy(results, mapped_labels_test)"
   ]
  },
  {
   "cell_type": "markdown",
   "metadata": {},
   "source": [
    "# Other Unsupervised methods which deal with high dimensions and/overlapping"
   ]
  },
  {
   "cell_type": "markdown",
   "metadata": {},
   "source": [
    "- EM (expectation maximization; apparently very good for overlapping clusters) and can assign different ways to constrain the data (diagonal, tie, etc)\n",
    "- http://ceur-ws.org/Vol-1455/paper-06.pdf"
   ]
  },
  {
   "cell_type": "markdown",
   "metadata": {},
   "source": [
    "# Apply EM to the three methods above"
   ]
  },
  {
   "cell_type": "code",
   "execution_count": 15,
   "metadata": {},
   "outputs": [],
   "source": [
    "label_mapping = {'WHO II': 1, 'WHO III': 0, 'WHO IV': 2}\n",
    "mapped_labels_train = [label_mapping[x[0]] for x in train_labels]\n",
    "mapped_labels_test = [label_mapping[x[0]] for x in test_labels]"
   ]
  },
  {
   "cell_type": "markdown",
   "metadata": {},
   "source": [
    "### All Data"
   ]
  },
  {
   "cell_type": "code",
   "execution_count": 76,
   "metadata": {},
   "outputs": [
    {
     "name": "stdout",
     "output_type": "stream",
     "text": [
      "Initialization 0\n",
      "Initialization converged: True\n"
     ]
    },
    {
     "data": {
      "text/plain": [
       "0.4726027397260274"
      ]
     },
     "execution_count": 76,
     "metadata": {},
     "output_type": "execute_result"
    }
   ],
   "source": [
    "# 3 gaussians used in the model\n",
    "gmm, predictions = get_gmm_model(train_data)\n",
    "get_accuracy(predictions, mapped_labels_train)"
   ]
  },
  {
   "cell_type": "code",
   "execution_count": 78,
   "metadata": {},
   "outputs": [
    {
     "data": {
      "text/plain": [
       "0.3939393939393939"
      ]
     },
     "execution_count": 78,
     "metadata": {},
     "output_type": "execute_result"
    }
   ],
   "source": [
    "test_predictions = gmm.predict(test_data)\n",
    "get_accuracy(test_predictions, mapped_labels_test)"
   ]
  },
  {
   "cell_type": "code",
   "execution_count": 14,
   "metadata": {},
   "outputs": [
    {
     "data": {
      "text/plain": [
       "0.7272727272727273"
      ]
     },
     "execution_count": 14,
     "metadata": {},
     "output_type": "execute_result"
    }
   ],
   "source": [
    "test_predictions = gmm.predict(test_data)\n",
    "get_accuracy(test_predictions, mapped_labels_test)"
   ]
  },
  {
   "cell_type": "markdown",
   "metadata": {},
   "source": [
    "### Top 100 PCs"
   ]
  },
  {
   "cell_type": "code",
   "execution_count": 70,
   "metadata": {},
   "outputs": [],
   "source": [
    "pca = PCA(n_components=100)\n",
    "scaler = StandardScaler()\n",
    "\n",
    "train_scaled = scaler.fit_transform(train_data)\n",
    "pca_train_genes = pca.fit_transform(train_scaled)\n",
    "\n",
    "test_scaled = scaler.transform(test_data)\n",
    "pca_test_genes = pca.transform(test_scaled)"
   ]
  },
  {
   "cell_type": "code",
   "execution_count": 71,
   "metadata": {},
   "outputs": [
    {
     "name": "stdout",
     "output_type": "stream",
     "text": [
      "Initialization 0\n",
      "Initialization converged: True\n"
     ]
    },
    {
     "data": {
      "text/plain": [
       "0.5787671232876712"
      ]
     },
     "execution_count": 71,
     "metadata": {},
     "output_type": "execute_result"
    }
   ],
   "source": [
    "gmm, predictions = get_gmm_model(pca_train_genes)\n",
    "get_accuracy(predictions, mapped_labels_train)"
   ]
  },
  {
   "cell_type": "code",
   "execution_count": 73,
   "metadata": {},
   "outputs": [
    {
     "data": {
      "text/plain": [
       "0.30303030303030304"
      ]
     },
     "execution_count": 73,
     "metadata": {},
     "output_type": "execute_result"
    }
   ],
   "source": [
    "test_predictions = gmm.predict(pca_test_genes)\n",
    "get_accuracy(test_predictions, mapped_labels_test)"
   ]
  },
  {
   "cell_type": "markdown",
   "metadata": {},
   "source": [
    "### PCA Important Genes"
   ]
  },
  {
   "cell_type": "code",
   "execution_count": 46,
   "metadata": {},
   "outputs": [
    {
     "name": "stdout",
     "output_type": "stream",
     "text": [
      "Initialization 0\n",
      "Initialization converged: True\n"
     ]
    },
    {
     "data": {
      "text/plain": [
       "0.5513698630136986"
      ]
     },
     "execution_count": 46,
     "metadata": {},
     "output_type": "execute_result"
    }
   ],
   "source": [
    "gmm, predictions = get_gmm_model(important_train)\n",
    "get_accuracy(predictions, mapped_labels_train)"
   ]
  },
  {
   "cell_type": "code",
   "execution_count": 47,
   "metadata": {},
   "outputs": [
    {
     "data": {
      "text/plain": [
       "0.5454545454545454"
      ]
     },
     "execution_count": 47,
     "metadata": {},
     "output_type": "execute_result"
    }
   ],
   "source": [
    "test_predictions = gmm.predict(important_test)\n",
    "get_accuracy(test_predictions, mapped_labels_test)"
   ]
  },
  {
   "cell_type": "markdown",
   "metadata": {},
   "source": [
    "### FA Important Genes"
   ]
  },
  {
   "cell_type": "code",
   "execution_count": 40,
   "metadata": {},
   "outputs": [
    {
     "name": "stdout",
     "output_type": "stream",
     "text": [
      "Initialization 0\n",
      "Initialization converged: True\n"
     ]
    },
    {
     "data": {
      "text/plain": [
       "0.5958904109589042"
      ]
     },
     "execution_count": 40,
     "metadata": {},
     "output_type": "execute_result"
    }
   ],
   "source": [
    "gmm, predictions = get_gmm_model(fa_important_train)\n",
    "get_accuracy(predictions, mapped_labels_train)"
   ]
  },
  {
   "cell_type": "code",
   "execution_count": 41,
   "metadata": {},
   "outputs": [
    {
     "data": {
      "text/plain": [
       "0.6060606060606061"
      ]
     },
     "execution_count": 41,
     "metadata": {},
     "output_type": "execute_result"
    }
   ],
   "source": [
    "test_predictions = gmm.predict(fa_important_test)\n",
    "get_accuracy(test_predictions, mapped_labels_test)"
   ]
  },
  {
   "cell_type": "markdown",
   "metadata": {},
   "source": [
    "### Sparse PCA"
   ]
  },
  {
   "cell_type": "code",
   "execution_count": 44,
   "metadata": {},
   "outputs": [
    {
     "name": "stdout",
     "output_type": "stream",
     "text": [
      "Initialization 0\n",
      "Initialization converged: True\n"
     ]
    },
    {
     "data": {
      "text/plain": [
       "0.4897260273972603"
      ]
     },
     "execution_count": 44,
     "metadata": {},
     "output_type": "execute_result"
    }
   ],
   "source": [
    "gmm, predictions = get_gmm_model(sparse_train_genes)\n",
    "get_accuracy(predictions, mapped_labels_train)"
   ]
  },
  {
   "cell_type": "code",
   "execution_count": 45,
   "metadata": {},
   "outputs": [
    {
     "data": {
      "text/plain": [
       "0.45454545454545453"
      ]
     },
     "execution_count": 45,
     "metadata": {},
     "output_type": "execute_result"
    }
   ],
   "source": [
    "test_predictions = gmm.predict(sparse_test_genes)\n",
    "get_accuracy(test_predictions, mapped_labels_test)"
   ]
  }
 ],
 "metadata": {
  "kernelspec": {
   "display_name": "applied_ml",
   "language": "python",
   "name": "applied_ml"
  },
  "language_info": {
   "codemirror_mode": {
    "name": "ipython",
    "version": 3
   },
   "file_extension": ".py",
   "mimetype": "text/x-python",
   "name": "python",
   "nbconvert_exporter": "python",
   "pygments_lexer": "ipython3",
   "version": "3.6.10"
  }
 },
 "nbformat": 4,
 "nbformat_minor": 2
}
